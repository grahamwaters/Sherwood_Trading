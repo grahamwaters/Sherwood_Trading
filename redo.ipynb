{
 "cells": [
  {
   "cell_type": "code",
   "execution_count": 83,
   "metadata": {},
   "outputs": [],
   "source": [
    "#^ Essential Imports\n",
    "import logging\n",
    "import configparser\n",
    "import pandas as pd\n",
    "import pandas_ta as ta\n",
    "import robin_stocks as rstocks\n",
    "from robin_stocks import robinhood as r\n",
    "from datetime import datetime\n",
    "from pytz import timezone\n",
    "import alive_progress\n",
    "import traceback\n",
    "from alive_progress import alive_bar\n",
    "from icecream import ic\n",
    "import asyncio\n",
    "import sys\n",
    "import time\n",
    "import os\n",
    "import random\n",
    "from tqdm import tqdm\n",
    "PCT_SPEND = 0.05 # 5% of buying power\n",
    "verbose_mode = False # Set to True to see more logging output\n",
    "from ratelimit import limits, sleep_and_retry\n",
    "from colorama import Fore, Back, Style"
   ]
  },
  {
   "cell_type": "code",
   "execution_count": 84,
   "metadata": {},
   "outputs": [],
   "source": [
    "#^ load the relevant variables from the .ini credentials file in config/\n",
    "#^ Starting out with the basics\n",
    "config = configparser.ConfigParser()\n",
    "config.read('config/credentials.ini')\n",
    "coins = config['trading']['coins'].split(', ')\n",
    "stop_loss_percent = float(config['trading']['stop_loss_percent'])\n",
    "coins = [coin.strip() for coin in coins]\n",
    "percent_to_use = float(config['trading']['percent_to_use'])\n",
    "verbose_mode = config['logging']['verbose_mode']\n",
    "debug_verbose = config['logging']['debug_verbose']\n",
    "reset_positions = config['logging']['reset_positions']\n",
    "minimum_usd_per_position = float(config['trading']['minimum_usd_per_position']) #note: this is the minimum amount of USD that must be invested at any given time in each position. All trades must keep this in mind.\n",
    "# get pct_to_buy_with from config file\n",
    "pct_to_buy_with = config['trading']['percent_to_use'] #*fixed\n",
    "pct_to_buy_with = float(pct_to_buy_with)\n",
    "pct_to_buy_per_trade = config['trading']['percent_to_spend_per_trade'] #* fixed\n",
    "pct_to_buy_per_trade = float(pct_to_buy_per_trade)"
   ]
  },
  {
   "cell_type": "code",
   "execution_count": 85,
   "metadata": {},
   "outputs": [],
   "source": [
    "#^ Logging Setup\n",
    "if not os.path.exists('logs'):\n",
    "    os.makedirs('logs')\n",
    "logging.basicConfig(filename='logs/robinhood.log', level=logging.INFO, format='%(asctime)s - %(levelname)s - %(message)s')"
   ]
  },
  {
   "cell_type": "code",
   "execution_count": 86,
   "metadata": {},
   "outputs": [
    {
     "data": {
      "text/plain": [
       "\"\\nNotes\\nr.crypto.get_crypto_quote(position['currency']['code'])['mark_price']\\nuse the format above to get the current price of a coin in USD\\n\\nordering crypto should use this syntax:\\n    r.orders.order_crypto(\\n        symbol = coin,\\n        amountIn = 'dollars', # or 'quantity'\\n        side = 'buy',\\n        quantityOrPrice = buy_cost,#buy_cost / float(df.close.iloc[-1]), # this is the amount of the coin to buy in units of the coin\\n        limitPrice = df.close.iloc[-1],\\n        timeInForce = 'gtc',\\n        jsonify = True\\n    )\\n\\nIncrements apply to each kind of coin\\n    r.crypto.get_crypto_info('BTC')['min_order_size'] # this is the minimum amount of BTC that can be bought at a time\\n# Get crypto positions\\npositions = r.crypto.get_crypto_positions()\\nprint(f'found {len(positions)} positions.')\\nfor position in tqdm(positions):\\n    # print(position)\\n    if position['currency']['code'] == crypto:\\n        pos_dict = position['currency']\\n        min_order_size = float(pos_dict['increment'])\\n        coin_holdings = float(position['quantity_available'])\\n\""
      ]
     },
     "execution_count": 86,
     "metadata": {},
     "output_type": "execute_result"
    }
   ],
   "source": [
    "\"\"\"\n",
    "Notes\n",
    "r.crypto.get_crypto_quote(position['currency']['code'])['mark_price']\n",
    "use the format above to get the current price of a coin in USD\n",
    "\n",
    "ordering crypto should use this syntax:\n",
    "    r.orders.order_crypto(\n",
    "        symbol = coin,\n",
    "        amountIn = 'dollars', # or 'quantity'\n",
    "        side = 'buy',\n",
    "        quantityOrPrice = buy_cost,#buy_cost / float(df.close.iloc[-1]), # this is the amount of the coin to buy in units of the coin\n",
    "        limitPrice = df.close.iloc[-1],\n",
    "        timeInForce = 'gtc',\n",
    "        jsonify = True\n",
    "    )\n",
    "\n",
    "Increments apply to each kind of coin\n",
    "    r.crypto.get_crypto_info('BTC')['min_order_size'] # this is the minimum amount of BTC that can be bought at a time\n",
    "# Get crypto positions\n",
    "positions = r.crypto.get_crypto_positions()\n",
    "print(f'found {len(positions)} positions.')\n",
    "for position in tqdm(positions):\n",
    "    # print(position)\n",
    "    if position['currency']['code'] == crypto:\n",
    "        pos_dict = position['currency']\n",
    "        min_order_size = float(pos_dict['increment'])\n",
    "        coin_holdings = float(position['quantity_available'])\n",
    "\"\"\""
   ]
  },
  {
   "cell_type": "code",
   "execution_count": 87,
   "metadata": {},
   "outputs": [],
   "source": [
    "\n",
    "#! Format for a Buy Order\n",
    "# buy_order_response = r.orders.order_crypto(\n",
    "#     symbol = coin,\n",
    "#     amountIn = 'dollars', # or 'quantity'\n",
    "#     side = 'buy',\n",
    "#     quantityOrPrice = buy_cost,#buy_cost / float(df.close.iloc[-1]), # this is the amount of the coin to buy in units of the coin\n",
    "#     limitPrice = rounded_limit_price,\n",
    "#     timeInForce = 'gtc',\n",
    "#     jsonify = True\n",
    "# )\n",
    "#! Format for a Sell Order\n",
    "# # Submit an order using the r.orders.order_sell_crypto_limit() function\n",
    "# sell_order_response = r.orders.order_crypto(\n",
    "#     symbol = coin,\n",
    "#     amountIn = 'quantity', # in coins\n",
    "#     side = 'sell',\n",
    "#     quantityOrPrice = volume_to_sell_usd / float(df.close.iloc[-1]), # this is the amount of the coin to sell in units of the coin\n",
    "#     limitPrice = df.close.iloc[-1],\n",
    "#     timeInForce = 'gtc',\n",
    "#     jsonify = True\n",
    "# )\n",
    "# r.crypto.get_crypto_quote(position['currency']['code'])['mark_price']\n",
    "# use the format above to get the current price of a coin in USD\n"
   ]
  },
  {
   "cell_type": "code",
   "execution_count": 88,
   "metadata": {},
   "outputs": [
    {
     "name": "stdout",
     "output_type": "stream",
     "text": [
      "Logged in as \"graham.waters37@gmail.com\"\n"
     ]
    }
   ],
   "source": [
    "# Purpose: Redo the Robinhood API trader in Python\n",
    "#* Step One - Log in to the Robinhood API\n",
    "username = config['robinhood']['username']\n",
    "password = config['robinhood']['password']\n",
    "login = r.login(username, password)\n",
    "print(f\"Logged in as {username}\")"
   ]
  },
  {
   "cell_type": "code",
   "execution_count": 89,
   "metadata": {},
   "outputs": [
    {
     "name": "stdout",
     "output_type": "stream",
     "text": [
      "Checking Available Buying Power...\n",
      "Available Buying Power: $75.736 * 0.8 = $60.588800000000006\n"
     ]
    }
   ],
   "source": [
    "print(f'Checking Available Buying Power...')\n",
    "total_money = float(r.load_account_profile()['crypto_buying_power']) * pct_to_buy_with\n",
    "print(f'Available Buying Power: ${total_money}', end='')\n",
    "print(f' * {pct_to_buy_with} = ${total_money * pct_to_buy_with}')\n",
    "available_money = total_money * pct_to_buy_with"
   ]
  },
  {
   "cell_type": "code",
   "execution_count": 95,
   "metadata": {},
   "outputs": [
    {
     "name": "stderr",
     "output_type": "stream",
     "text": [
      "100%|██████████| 14/14 [00:17<00:00,  1.21s/it]\n"
     ]
    },
    {
     "name": "stdout",
     "output_type": "stream",
     "text": [
      "Found Additional pages.\n"
     ]
    },
    {
     "name": "stderr",
     "output_type": "stream",
     "text": [
      "0it [00:00, ?it/s]"
     ]
    },
    {
     "name": "stdout",
     "output_type": "stream",
     "text": [
      "You have 0 open orders. Cancelling all open orders.\n",
      "[coin] | Δ % | Δ $ | Δ % (24h) | Δ $ (24h)\n"
     ]
    },
    {
     "name": "stderr",
     "output_type": "stream",
     "text": [
      "\n"
     ]
    },
    {
     "name": "stdout",
     "output_type": "stream",
     "text": [
      "[coin] | Δ % | Δ $ | Δ % (24h) | Δ $ (24h)\n"
     ]
    }
   ],
   "source": [
    "# Action Function -- Buy a Coin\n",
    "# Input: coin name, Amount in USD, Current Price of Coin\n",
    "@sleep_and_retry\n",
    "def get_current_price(coin_name):\n",
    "    # Get a current quote for the coin in question\n",
    "    quote = r.crypto.get_crypto_quote(coin_name)\n",
    "    # Get the current price of the coin\n",
    "    current_price = quote['mark_price']\n",
    "    return current_price\n",
    "\n",
    "@sleep_and_retry\n",
    "def update_portfolio():\n",
    "    # Assuming you've already logged in\n",
    "    positions = r.crypto.get_crypto_positions()\n",
    "    positions_dict = {}\n",
    "    for position in positions:\n",
    "        # print(f\"You own {position['quantity']} of {position['currency']['code']}\")\n",
    "        positions_dict[position['currency']['code']] = float(position['quantity'])\n",
    "    return positions_dict\n",
    "\n",
    "@sleep_and_retry\n",
    "def buy_coin(\n",
    "    coin_name = 'BTC',\n",
    "    amount = 1.00,\n",
    "    current_price = 10000\n",
    "    ):\n",
    "    # Get the current price of the coin\n",
    "    current_price = get_current_price(coin_name)\n",
    "    # Calculate the amount of coins to buy\n",
    "    amount_to_buy = float(amount) / float(current_price)\n",
    "    # Buy the coin and return the amount bought (round the buy price to 2 decimal places)\n",
    "    buying_usd = round(float(amount_to_buy), 2)\n",
    "    buy_cost = round(float(buying_usd) * float(current_price), 2)\n",
    "    result = r.orders.order_crypto(\n",
    "        symbol = coin_name,\n",
    "        amountIn = 'dollars', # or 'quantity'\n",
    "        side = 'buy',\n",
    "        quantityOrPrice = float(buy_cost),#buy_cost / float(df.close.iloc[-1]), # this is the amount of the coin to buy in units of the coin\n",
    "        limitPrice = float(current_price),\n",
    "        timeInForce = 'gtc',\n",
    "        jsonify = True\n",
    "    )\n",
    "    return result\n",
    "\n",
    "@sleep_and_retry\n",
    "def sell_coin(\n",
    "    coin_name = 'BTC',\n",
    "    ):\n",
    "    positions_dict = update_portfolio()\n",
    "    # Get a current quote for the coin in question\n",
    "    quote = r.crypto.get_crypto_quote(coin_name)\n",
    "    quote_value = quote['mark_price']\n",
    "    quote_float = float(quote_value)\n",
    "    quote = round(quote_float, 2)\n",
    "    # Get the current price of the coin\n",
    "    current_price = float(get_current_price(coin_name))\n",
    "    # Calculate the amount of coins to sell\n",
    "    # Sell All Coins of this type in the portfolio\n",
    "    amount_held = float(positions_dict[coin_name]) \n",
    "    # Sell the coin and return the amount sold (round the sell price to 2 decimal places)\n",
    "    # selling_usd = round(amount_held * current_price, 2)\n",
    "    # sell_cost = round(float(selling_usd) / float(current_price), 2) \n",
    "    result = r.orders.order_crypto(\n",
    "        symbol = coin_name,\n",
    "        amountIn = 'quantity', # or 'quantity'\n",
    "        side = 'sell', # this is a sell order\n",
    "        quantityOrPrice = float(amount_held), # this is the amount of the coin to buy in units of the coin\n",
    "        limitPrice = float(current_price),\n",
    "        timeInForce = 'gtc', # good till cancelled\n",
    "        jsonify = True # return json\n",
    "    )\n",
    "    return result\n",
    "\n",
    "\n",
    "basic_orders = {}\n",
    "positions_dict = update_portfolio()\n",
    "# amount_held = float(positions_dict[coin]) \n",
    "# fill in the basic orders dictionary with 1.00 USD buys of each coin in the coins list\n",
    "for coin in tqdm(coins):\n",
    "    basic_orders[coin] = [buy_coin(coin, 1.00, float(get_current_price(coin))), 1.00 / float(get_current_price(coin))] # has the format [amount held, price bought at]\n",
    "# The calculate_ta_indicators function calculates different technical indicators and generates trading signals based on these indicators. The indicators are: EMA, MACD, RSI,\n",
    "profit_threshold = 0.10 # 10 cents\n",
    "\n",
    "# cancel open orders\n",
    "open_orders = r.orders.get_all_open_crypto_orders()\n",
    "print(f'You have {len(open_orders)} open orders. Cancelling all open orders.')\n",
    "for order in tqdm(open_orders):\n",
    "    r.orders.cancel_crypto_order(order['id'])\n",
    "\n",
    "\n",
    "run_id = 0 # used to determine if the coin has been held for more than 1 run\n",
    "def calculate_ta_indicators(coins):\n",
    "    try:\n",
    "        print(f'[coin] | Δ % | Δ $ | Δ % (24h) | Δ $ (24h)')\n",
    "        for coin in coins:\n",
    "            positions_dict = update_portfolio()\n",
    "            # coin = 'BTC'  # Replace 'BTC' with the coin you are interested in\n",
    "            amount_held = float(positions_dict.get(coin, 0)) \n",
    "            value_of_held = amount_held * float(get_current_price(coin))\n",
    "            # update basic_orders dictionary\n",
    "            previous_value = basic_orders.get(coin, [0, 0])[1]\n",
    "            basic_orders[coin] = [amount_held, value_of_held]\n",
    "\n",
    "            delta_success = False\n",
    "            try:\n",
    "                # print this\n",
    "                # [coin] | Δ % | Δ $ | Δ % (24h) | Δ $ (24h) \n",
    "                \n",
    "                delta_percentage = round((value_of_held - previous_value) / previous_value * 100, 4)\n",
    "                delta_value = round(value_of_held - previous_value, 4)\n",
    "                if verbose_mode and run_id != 0:\n",
    "                    print(f'{coin} | {delta_percentage}% | {delta_value} | {delta_percentage}% | {delta_value} |')\n",
    "                delta_success = True\n",
    "                run_id += 1\n",
    "            except:\n",
    "                pass\n",
    "\n",
    "            if delta_success and run_id > 1: \n",
    "                \n",
    "                # with all values rounded to 2 decimal places\n",
    "                if (value_of_held > previous_value + profit_threshold and value_of_held > 1.50) or \\\n",
    "                    delta_percentage > 2.00 or \\\n",
    "                        delta_percentage < -2.00: # if the percent change has either raised by 2% or dropped by 2% sell the coin\n",
    "                    # sell coin\n",
    "                    sell_coin(coin)\n",
    "            elif delta_success == False: # there was an error so go with basic sells\n",
    "                if (value_of_held > previous_value + profit_threshold and value_of_held > 1.50):\n",
    "                    # sell coin\n",
    "                    sell_coin(coin)\n",
    "            # Get the historical data for the coin\n",
    "            historicals = r.get_crypto_historicals(coin, interval='hour', span='week', bounds='24_7', info=None)\n",
    "            \n",
    "            # Convert the list of dictionaries to a DataFrame\n",
    "            df = pd.DataFrame(historicals)\n",
    "            \n",
    "            # Convert the 'begins_at' column to datetime and set it as the index\n",
    "            df['begins_at'] = pd.to_datetime(df['begins_at'])\n",
    "            df.set_index('begins_at', inplace=True)\n",
    "            \n",
    "            # Convert the 'close_price' column to float\n",
    "            df['close_price'] = df['close_price'].astype(float)\n",
    "            \n",
    "            # Calculate the EMA\n",
    "            # print(f'Calculating EMA for {coin}')\n",
    "            df['ema'] = df['close_price'].ewm(span=12, adjust=False).mean()\n",
    "            \n",
    "            # Calculate the MACD\n",
    "            # print(f'Calculating MACD for {coin}')\n",
    "            # macd_obj = ta.MACD(df['close_price'])\n",
    "            df['macd_line'], df['signal_line'], df['macd_hist'] = ta.macd(df['close_price'])\n",
    "            \n",
    "            # Calculate the RSI\n",
    "            # print(f'Calculating RSI for {coin}')\n",
    "            df['rsi'] = ta.rsi(df['close_price'])\n",
    "            \n",
    "            # Buy Signal\n",
    "            # If the MACD is greater than the signal line and the RSI is less than 30, then buy\n",
    "            if df['macd_line'].iloc[-1] > df['signal_line'].iloc[-1] and df['rsi'].iloc[-1] < 30:\n",
    "                buy_coin(coin, 1.00, df['close_price'].iloc[-1])\n",
    "                # print(f'Buy Signal for {coin}')\n",
    "            \n",
    "            # Sell Signal\n",
    "            # If the MACD is less than the signal line and the RSI is greater than 70, then sell\n",
    "            elif df['macd_line'].iloc[-1] < df['signal_line'].iloc[-1] and df['rsi'].iloc[-1] > 70:\n",
    "                sell_coin(coin)\n",
    "                print(f'Sell Signal for {coin}')\n",
    "            \n",
    "            else:\n",
    "                pass\n",
    "    except Exception as e:\n",
    "        print(f'No Signal for {coin}, due to an error {e}')\n",
    "\n",
    "\n",
    "\n",
    "# use While True to run the program indefinitely\n",
    "while True:\n",
    "    calculate_ta_indicators(coins)\n",
    "    time.sleep(60*5) # wait for 5 minutes\n",
    "\n",
    "\n"
   ]
  },
  {
   "cell_type": "markdown",
   "metadata": {},
   "source": [
    "# test buy and sell functions\n",
    "# buy 1.00 USD of BTC\n",
    "buy_coin(\n",
    "    coin_name = 'BTC',\n",
    "    amount = float(1.00),\n",
    "    current_price = float(r.crypto.get_crypto_quote('BTC')['mark_price'])\n",
    "    )\n",
    "print('You bought 1.00 USD of BTC')\n",
    "# sell 1.00 USD of BTC\n",
    "sell_coin(\n",
    "    coin_name = 'BTC'\n",
    "    )\n",
    "print('You sold 1.00 USD of BTC')\n"
   ]
  },
  {
   "cell_type": "code",
   "execution_count": null,
   "metadata": {},
   "outputs": [],
   "source": [
    "# test buy and sell functions\n",
    "# buy 1.00 USD of BTC\n",
    "\n",
    "buy_coin(coin = 'BTC', amount = 1.00, \n",
    "# sell 1.00 USD of BTC"
   ]
  },
  {
   "cell_type": "code",
   "execution_count": null,
   "metadata": {},
   "outputs": [],
   "source": [
    "COINTELEGRAPH = {\n",
    "    'ETH': 'https://cointelegraph.com/rss/tag/ethereum',\n",
    "    'BTC': 'https://cointelegraph.com/rss/tag/bitcoin',\n",
    "    'XRP': 'https://cointelegraph.com/rss/tag/xrp',\n",
    "    'BCH': 'https://cointelegraph.com/rss/tag/bitcoin-cash',\n",
    "    'LTC': 'https://cointelegraph.com/rss/tag/litecoin',\n",
    "    'XLM': 'https://cointelegraph.com/rss/tag/stellar',\n",
    "}"
   ]
  }
 ],
 "metadata": {
  "kernelspec": {
   "display_name": "base",
   "language": "python",
   "name": "python3"
  },
  "language_info": {
   "codemirror_mode": {
    "name": "ipython",
    "version": 3
   },
   "file_extension": ".py",
   "mimetype": "text/x-python",
   "name": "python",
   "nbconvert_exporter": "python",
   "pygments_lexer": "ipython3",
   "version": "3.9.13"
  },
  "orig_nbformat": 4
 },
 "nbformat": 4,
 "nbformat_minor": 2
}
