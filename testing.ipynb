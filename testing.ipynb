{
 "cells": [
  {
   "cell_type": "code",
   "execution_count": 4,
   "metadata": {},
   "outputs": [
    {
     "name": "stderr",
     "output_type": "stream",
     "text": [
      "0it [00:00, ?it/s]"
     ]
    },
    {
     "name": "stdout",
     "output_type": "stream",
     "text": [
      "[X] Please install TA-Lib to use 2crows. (pip install TA-Lib)\n",
      "[X] Please install TA-Lib to use 3blackcrows. (pip install TA-Lib)\n",
      "[X] Please install TA-Lib to use 3inside. (pip install TA-Lib)\n",
      "[X] Please install TA-Lib to use 3linestrike. (pip install TA-Lib)\n",
      "[X] Please install TA-Lib to use 3outside. (pip install TA-Lib)\n",
      "[X] Please install TA-Lib to use 3starsinsouth. (pip install TA-Lib)\n",
      "[X] Please install TA-Lib to use 3whitesoldiers. (pip install TA-Lib)\n",
      "[X] Please install TA-Lib to use abandonedbaby. (pip install TA-Lib)\n",
      "[X] Please install TA-Lib to use advanceblock. (pip install TA-Lib)\n",
      "[X] Please install TA-Lib to use belthold. (pip install TA-Lib)\n",
      "[X] Please install TA-Lib to use breakaway. (pip install TA-Lib)\n",
      "[X] Please install TA-Lib to use closingmarubozu. (pip install TA-Lib)\n",
      "[X] Please install TA-Lib to use concealbabyswall. (pip install TA-Lib)\n",
      "[X] Please install TA-Lib to use counterattack. (pip install TA-Lib)\n",
      "[X] Please install TA-Lib to use darkcloudcover. (pip install TA-Lib)\n",
      "[X] Please install TA-Lib to use dojistar. (pip install TA-Lib)\n",
      "[X] Please install TA-Lib to use dragonflydoji. (pip install TA-Lib)\n",
      "[X] Please install TA-Lib to use engulfing. (pip install TA-Lib)\n",
      "[X] Please install TA-Lib to use eveningdojistar. (pip install TA-Lib)\n",
      "[X] Please install TA-Lib to use eveningstar. (pip install TA-Lib)\n",
      "[X] Please install TA-Lib to use gapsidesidewhite. (pip install TA-Lib)\n",
      "[X] Please install TA-Lib to use gravestonedoji. (pip install TA-Lib)\n",
      "[X] Please install TA-Lib to use hammer. (pip install TA-Lib)\n",
      "[X] Please install TA-Lib to use hangingman. (pip install TA-Lib)\n",
      "[X] Please install TA-Lib to use harami. (pip install TA-Lib)\n",
      "[X] Please install TA-Lib to use haramicross. (pip install TA-Lib)\n",
      "[X] Please install TA-Lib to use highwave. (pip install TA-Lib)\n",
      "[X] Please install TA-Lib to use hikkake. (pip install TA-Lib)\n",
      "[X] Please install TA-Lib to use hikkakemod. (pip install TA-Lib)\n",
      "[X] Please install TA-Lib to use homingpigeon. (pip install TA-Lib)\n",
      "[X] Please install TA-Lib to use identical3crows. (pip install TA-Lib)\n",
      "[X] Please install TA-Lib to use inneck. (pip install TA-Lib)\n",
      "[X] Please install TA-Lib to use invertedhammer. (pip install TA-Lib)\n",
      "[X] Please install TA-Lib to use kicking. (pip install TA-Lib)\n",
      "[X] Please install TA-Lib to use kickingbylength. (pip install TA-Lib)\n",
      "[X] Please install TA-Lib to use ladderbottom. (pip install TA-Lib)\n",
      "[X] Please install TA-Lib to use longleggeddoji. (pip install TA-Lib)\n",
      "[X] Please install TA-Lib to use longline. (pip install TA-Lib)\n",
      "[X] Please install TA-Lib to use marubozu. (pip install TA-Lib)\n",
      "[X] Please install TA-Lib to use matchinglow. (pip install TA-Lib)\n",
      "[X] Please install TA-Lib to use mathold. (pip install TA-Lib)\n",
      "[X] Please install TA-Lib to use morningdojistar. (pip install TA-Lib)\n",
      "[X] Please install TA-Lib to use morningstar. (pip install TA-Lib)\n",
      "[X] Please install TA-Lib to use onneck. (pip install TA-Lib)\n",
      "[X] Please install TA-Lib to use piercing. (pip install TA-Lib)\n",
      "[X] Please install TA-Lib to use rickshawman. (pip install TA-Lib)\n",
      "[X] Please install TA-Lib to use risefall3methods. (pip install TA-Lib)\n",
      "[X] Please install TA-Lib to use separatinglines. (pip install TA-Lib)\n",
      "[X] Please install TA-Lib to use shootingstar. (pip install TA-Lib)\n",
      "[X] Please install TA-Lib to use shortline. (pip install TA-Lib)\n",
      "[X] Please install TA-Lib to use spinningtop. (pip install TA-Lib)\n",
      "[X] Please install TA-Lib to use stalledpattern. (pip install TA-Lib)\n",
      "[X] Please install TA-Lib to use sticksandwich. (pip install TA-Lib)\n",
      "[X] Please install TA-Lib to use takuri. (pip install TA-Lib)\n",
      "[X] Please install TA-Lib to use tasukigap. (pip install TA-Lib)\n",
      "[X] Please install TA-Lib to use thrusting. (pip install TA-Lib)\n",
      "[X] Please install TA-Lib to use tristar. (pip install TA-Lib)\n",
      "[X] Please install TA-Lib to use unique3river. (pip install TA-Lib)\n",
      "[X] Please install TA-Lib to use upsidegap2crows. (pip install TA-Lib)\n",
      "[X] Please install TA-Lib to use xsidegap3methods. (pip install TA-Lib)\n"
     ]
    },
    {
     "name": "stderr",
     "output_type": "stream",
     "text": [
      "131it [00:02, 57.97it/s]\n"
     ]
    },
    {
     "ename": "AttributeError",
     "evalue": "'NoneType' object has no attribute 'load'",
     "output_type": "error",
     "traceback": [
      "\u001b[0;31m---------------------------------------------------------------------------\u001b[0m",
      "\u001b[0;31mAttributeError\u001b[0m                            Traceback (most recent call last)",
      "\u001b[0;32m/var/folders/34/d1tlq3k91hb0lj6x90xpzb4r0000gn/T/ipykernel_80842/683797453.py\u001b[0m in \u001b[0;36m<module>\u001b[0;34m\u001b[0m\n\u001b[1;32m     11\u001b[0m \u001b[0;34m\u001b[0m\u001b[0m\n\u001b[1;32m     12\u001b[0m \u001b[0mwatch\u001b[0m \u001b[0;34m=\u001b[0m \u001b[0mdf\u001b[0m\u001b[0;34m.\u001b[0m\u001b[0mta\u001b[0m\u001b[0;34m.\u001b[0m\u001b[0mstrategy\u001b[0m\u001b[0;34m(\u001b[0m\u001b[0mta\u001b[0m\u001b[0;34m.\u001b[0m\u001b[0mAllStrategy\u001b[0m\u001b[0;34m)\u001b[0m\u001b[0;34m\u001b[0m\u001b[0;34m\u001b[0m\u001b[0m\n\u001b[0;32m---> 13\u001b[0;31m \u001b[0mwatch\u001b[0m\u001b[0;34m.\u001b[0m\u001b[0mload\u001b[0m\u001b[0;34m(\u001b[0m\u001b[0;34m\"SPY\"\u001b[0m\u001b[0;34m,\u001b[0m \u001b[0mplot\u001b[0m\u001b[0;34m=\u001b[0m\u001b[0;32mTrue\u001b[0m\u001b[0;34m,\u001b[0m \u001b[0mmas\u001b[0m\u001b[0;34m=\u001b[0m\u001b[0;32mTrue\u001b[0m\u001b[0;34m)\u001b[0m\u001b[0;34m\u001b[0m\u001b[0;34m\u001b[0m\u001b[0m\n\u001b[0m",
      "\u001b[0;31mAttributeError\u001b[0m: 'NoneType' object has no attribute 'load'"
     ]
    }
   ],
   "source": [
    "import pandas_ta as ta\n",
    "# !pip install TA-Lib\n",
    "#import watch.load(\"SPY\", plot=True, mas=True)\n",
    "import pandas as pd \n",
    "import numpy as np\n",
    "import matplotlib.pyplot as plt\n",
    "import pandas_ta as ta\n",
    "import yfinance as yf\n",
    "\n",
    "df = yf.download('SPY', start='2021-01-01', end='2021-06-01', progress=False)\n",
    "\n",
    "watch = df.ta.strategy(ta.AllStrategy)\n",
    "watch.load(\"SPY\", plot=True, mas=True)"
   ]
  }
 ],
 "metadata": {
  "kernelspec": {
   "display_name": "base",
   "language": "python",
   "name": "python3"
  },
  "language_info": {
   "codemirror_mode": {
    "name": "ipython",
    "version": 3
   },
   "file_extension": ".py",
   "mimetype": "text/x-python",
   "name": "python",
   "nbconvert_exporter": "python",
   "pygments_lexer": "ipython3",
   "version": "3.9.13"
  },
  "orig_nbformat": 4
 },
 "nbformat": 4,
 "nbformat_minor": 2
}
