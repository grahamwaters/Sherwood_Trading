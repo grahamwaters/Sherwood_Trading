{
 "cells": [
  {
   "cell_type": "code",
   "execution_count": 8,
   "metadata": {},
   "outputs": [
    {
     "name": "stdout",
     "output_type": "stream",
     "text": [
      "Requirement already satisfied: robin_stocks in /Users/grahamwaters/anaconda3/lib/python3.10/site-packages (3.0.1)\n",
      "Requirement already satisfied: pandas in /Users/grahamwaters/anaconda3/lib/python3.10/site-packages (2.0.1)\n",
      "Requirement already satisfied: python-dotenv in /Users/grahamwaters/anaconda3/lib/python3.10/site-packages (from robin_stocks) (1.0.0)\n",
      "Requirement already satisfied: requests in /Users/grahamwaters/anaconda3/lib/python3.10/site-packages (from robin_stocks) (2.28.1)\n",
      "Requirement already satisfied: pyotp in /Users/grahamwaters/anaconda3/lib/python3.10/site-packages (from robin_stocks) (2.8.0)\n",
      "Requirement already satisfied: cryptography in /Users/grahamwaters/anaconda3/lib/python3.10/site-packages (from robin_stocks) (39.0.1)\n",
      "Requirement already satisfied: python-dateutil>=2.8.2 in /Users/grahamwaters/anaconda3/lib/python3.10/site-packages (from pandas) (2.8.2)\n",
      "Requirement already satisfied: pytz>=2020.1 in /Users/grahamwaters/anaconda3/lib/python3.10/site-packages (from pandas) (2022.7)\n",
      "Requirement already satisfied: tzdata>=2022.1 in /Users/grahamwaters/anaconda3/lib/python3.10/site-packages (from pandas) (2023.3)\n",
      "Requirement already satisfied: numpy>=1.21.0 in /Users/grahamwaters/anaconda3/lib/python3.10/site-packages (from pandas) (1.24.3)\n",
      "Requirement already satisfied: six>=1.5 in /Users/grahamwaters/anaconda3/lib/python3.10/site-packages (from python-dateutil>=2.8.2->pandas) (1.16.0)\n",
      "Requirement already satisfied: cffi>=1.12 in /Users/grahamwaters/anaconda3/lib/python3.10/site-packages (from cryptography->robin_stocks) (1.15.1)\n",
      "Requirement already satisfied: idna<4,>=2.5 in /Users/grahamwaters/anaconda3/lib/python3.10/site-packages (from requests->robin_stocks) (2.10)\n",
      "Requirement already satisfied: certifi>=2017.4.17 in /Users/grahamwaters/anaconda3/lib/python3.10/site-packages (from requests->robin_stocks) (2022.12.7)\n",
      "Requirement already satisfied: urllib3<1.27,>=1.21.1 in /Users/grahamwaters/anaconda3/lib/python3.10/site-packages (from requests->robin_stocks) (1.26.14)\n",
      "Requirement already satisfied: charset-normalizer<3,>=2 in /Users/grahamwaters/anaconda3/lib/python3.10/site-packages (from requests->robin_stocks) (2.0.4)\n",
      "Requirement already satisfied: pycparser in /Users/grahamwaters/anaconda3/lib/python3.10/site-packages (from cffi>=1.12->cryptography->robin_stocks) (2.21)\n",
      "Requirement already satisfied: numpy in /Users/grahamwaters/anaconda3/lib/python3.10/site-packages (1.24.3)\n",
      "\u001b[31mERROR: Could not find a version that satisfies the requirement robinstocks (from versions: none)\u001b[0m\u001b[31m\n",
      "\u001b[0m\u001b[31mERROR: No matching distribution found for robinstocks\u001b[0m\u001b[31m\n",
      "\u001b[0mRequirement already satisfied: matplotlib in /Users/grahamwaters/anaconda3/lib/python3.10/site-packages (3.7.1)\n",
      "Requirement already satisfied: icecream in /Users/grahamwaters/anaconda3/lib/python3.10/site-packages (2.1.3)\n",
      "Requirement already satisfied: python-dateutil>=2.7 in /Users/grahamwaters/anaconda3/lib/python3.10/site-packages (from matplotlib) (2.8.2)\n",
      "Requirement already satisfied: fonttools>=4.22.0 in /Users/grahamwaters/anaconda3/lib/python3.10/site-packages (from matplotlib) (4.25.0)\n",
      "Requirement already satisfied: kiwisolver>=1.0.1 in /Users/grahamwaters/anaconda3/lib/python3.10/site-packages (from matplotlib) (1.4.4)\n",
      "Requirement already satisfied: pillow>=6.2.0 in /Users/grahamwaters/anaconda3/lib/python3.10/site-packages (from matplotlib) (9.4.0)\n",
      "Requirement already satisfied: pyparsing>=2.3.1 in /Users/grahamwaters/anaconda3/lib/python3.10/site-packages (from matplotlib) (3.0.9)\n",
      "Requirement already satisfied: packaging>=20.0 in /Users/grahamwaters/anaconda3/lib/python3.10/site-packages (from matplotlib) (22.0)\n",
      "Requirement already satisfied: cycler>=0.10 in /Users/grahamwaters/anaconda3/lib/python3.10/site-packages (from matplotlib) (0.11.0)\n",
      "Requirement already satisfied: contourpy>=1.0.1 in /Users/grahamwaters/anaconda3/lib/python3.10/site-packages (from matplotlib) (1.0.5)\n",
      "Requirement already satisfied: numpy>=1.20 in /Users/grahamwaters/anaconda3/lib/python3.10/site-packages (from matplotlib) (1.24.3)\n",
      "Requirement already satisfied: executing>=0.3.1 in /Users/grahamwaters/anaconda3/lib/python3.10/site-packages (from icecream) (0.8.3)\n",
      "Requirement already satisfied: asttokens>=2.0.1 in /Users/grahamwaters/anaconda3/lib/python3.10/site-packages (from icecream) (2.0.5)\n",
      "Requirement already satisfied: pygments>=2.2.0 in /Users/grahamwaters/anaconda3/lib/python3.10/site-packages (from icecream) (2.15.1)\n",
      "Requirement already satisfied: colorama>=0.3.9 in /Users/grahamwaters/anaconda3/lib/python3.10/site-packages (from icecream) (0.4.6)\n",
      "Requirement already satisfied: six in /Users/grahamwaters/anaconda3/lib/python3.10/site-packages (from asttokens>=2.0.1->icecream) (1.16.0)\n"
     ]
    }
   ],
   "source": [
    "!pip install robin_stocks pandas\n",
    "!pip install numpy\n",
    "!pip install robinstocks\n",
    "!pip install matplotlib icecream"
   ]
  },
  {
   "cell_type": "code",
   "execution_count": 11,
   "metadata": {},
   "outputs": [
    {
     "ename": "ModuleNotFoundError",
     "evalue": "No module named 'robin_stocks'",
     "output_type": "error",
     "traceback": [
      "\u001b[0;31m---------------------------------------------------------------------------\u001b[0m",
      "\u001b[0;31mModuleNotFoundError\u001b[0m                       Traceback (most recent call last)",
      "Cell \u001b[0;32mIn[11], line 1\u001b[0m\n\u001b[0;32m----> 1\u001b[0m \u001b[39mfrom\u001b[39;00m \u001b[39mrobin_stocks\u001b[39;00m \u001b[39mimport\u001b[39;00m robinhood \u001b[39mas\u001b[39;00m r\n\u001b[1;32m      2\u001b[0m \u001b[39mimport\u001b[39;00m \u001b[39mpandas\u001b[39;00m \u001b[39mas\u001b[39;00m \u001b[39mpd\u001b[39;00m\n\u001b[1;32m      3\u001b[0m \u001b[39mfrom\u001b[39;00m \u001b[39mdatetime\u001b[39;00m \u001b[39mimport\u001b[39;00m datetime\n",
      "\u001b[0;31mModuleNotFoundError\u001b[0m: No module named 'robin_stocks'"
     ]
    }
   ],
   "source": [
    "from robin_stocks import robinhood as r\n",
    "import pandas as pd\n",
    "from datetime import datetime\n",
    "import logging\n",
    "# import traceback # for debugging\n",
    "from sys import exit # for debugging\n",
    "import traceback # for debugging\n",
    "import time\n",
    "import ast\n",
    "from os import path\n",
    "import matplotlib.pyplot as plt\n",
    "import matplotlib.dates as mdates\n",
    "import matplotlib.ticker as mticker\n",
    "from tqdm import tqdm\n",
    "import numpy as np\n",
    "from icecream import ic\n",
    "from colorama import Fore, Back, Style\n",
    "# Login to Robinhood\n",
    "r.login('username', 'password')\n",
    "panic_mode = False # set to True to sell all crypto positions immediately\n",
    "# List of cryptocurrencies to trade\n",
    "cryptos = ['BTC', 'ETH', 'ADA', 'DOGE', 'MATIC', 'SHIB', 'ETC', 'UNI', 'AAVE', 'LTC', 'LINK', 'COMP', 'USDC', 'SOL', 'AVAX', 'XLM', 'BCH', 'XTZ']\n",
    "crypto_data = pd.DataFrame()\n",
    "# log file\n",
    "logger = logging.getLogger('crypto_trader')\n",
    "logger.setLevel(logging.DEBUG)\n",
    "fh = logging.FileHandler('crypto_trader.log')\n",
    "fh.setLevel(logging.DEBUG)\n",
    "logger.addHandler(fh)\n",
    "# import datetime now\n",
    "from datetime import datetime\n",
    "# import now function\n",
    "from datetime import datetime\n",
    "# import time\n",
    "import time\n",
    "\n",
    "now = datetime.now()\n",
    "\n",
    "# Initialize an empty dataframe to store crypto data\n",
    "crypto_data = pd.DataFrame()\n",
    "\n",
    "def get_crypto_data(cryptos, crypto_data):\n",
    "\n",
    "    for crypto in tqdm(cryptos):\n",
    "        try:\n",
    "            #print(f'Getting data for {crypto}, please wait...',end='')\n",
    "            # Get historical data\n",
    "            historicals = r.get_crypto_historicals(crypto, interval='day', span='week')\n",
    "            current_price = historicals[-1]['close_price']\n",
    "            historical_prices = [x['close_price'] for x in historicals]\n",
    "\n",
    "            # Load account profile\n",
    "            profile = r.profiles.load_account_profile()\n",
    "            buying_power = profile['buying_power']\n",
    "\n",
    "            # Get crypto positions\n",
    "            positions = r.crypto.get_crypto_positions()\n",
    "            print(f'found {len(positions)} positions.')\n",
    "            for position in tqdm(positions):\n",
    "                # print(position)\n",
    "                if position['currency']['code'] == crypto:\n",
    "                    pos_dict = position['currency']\n",
    "                    min_order_size = float(pos_dict['increment'])\n",
    "                    coin_holdings = float(position['quantity_available'])\n",
    "\n",
    "\n",
    "            # Get profile data\n",
    "            profile_data = r.profiles.load_portfolio_profile()\n",
    "            current_equity = profile_data['equity']\n",
    "            current_equity = float(current_equity)\n",
    "            previous_equity = profile_data['adjusted_equity_previous_close']\n",
    "            previous_equity = float(previous_equity)\n",
    "            daily_profit = float(current_equity) - float(previous_equity)\n",
    "\n",
    "            # convert all the numerical values in historical_prices to float\n",
    "            historical_prices = [float(x) for x in historical_prices]\n",
    "\n",
    "            # Append data to dataframe\n",
    "            crypto_data = crypto_data.append({\n",
    "                'ticker': crypto,\n",
    "                'current_price': current_price,\n",
    "                'historical_prices': historical_prices,\n",
    "                'buying_power': buying_power,\n",
    "                'min_order_size': min_order_size,\n",
    "                'coin_holdings': coin_holdings,\n",
    "                'updated_at': now,\n",
    "                'current_equity': current_equity,\n",
    "                'previous_equity': previous_equity,\n",
    "                'daily_profit': daily_profit\n",
    "            }, ignore_index=True)\n",
    "        except Exception as e:\n",
    "            print(f'Error getting data for {crypto}: {e}')\n",
    "            logger.error(f'Error getting data for {crypto}: {e}')\n",
    "            traceback.print_exc()\n",
    "            pass\n",
    "\n",
    "    def add_me(crypto_data, metric, metric_name):\n",
    "        if isinstance(metric, pd.Series):\n",
    "            # if rsi is a series, get the last value\n",
    "            crypto_data.loc[index, metric_name] = metric.iloc[-1]\n",
    "        elif isinstance(metric, float):\n",
    "            # if rsi is a float, just use it\n",
    "            crypto_data.loc[index, metric_name] = metric\n",
    "        elif isinstance(metric, np.ndarray):\n",
    "            # if rsi is an array, get the last value\n",
    "            crypto_data.loc[index, metric_name] = metric[-1]\n",
    "        else:\n",
    "            # otherwise, just use the value\n",
    "            crypto_data.loc[index, metric_name] = metric\n",
    "        return crypto_data\n",
    "\n",
    "    # Calculate RSI, MACD, Bollinger Bands, etc. and add to dataframe\n",
    "    for index, row in tqdm(crypto_data.iterrows()):\n",
    "        prices = pd.Series(row['historical_prices'])\n",
    "        # the ema below expects a series of floats, so convert if necessary\n",
    "        if not isinstance(prices[0], float):\n",
    "            prices = prices.apply(lambda x: float(x))\n",
    "        # Calculate RSI (Relative Strength Index)\n",
    "        # first make a copy of the data frame twice\n",
    "        up_df, down_df = prices.copy(), prices.copy()\n",
    "        # For up days, if the price is lower than previous price, set price to 0.\n",
    "        up_df[up_df < up_df.shift(1)] = 0\n",
    "        # For down days, if the price is higher than previous price, set price to 0.\n",
    "        down_df[down_df > down_df.shift(1)] = 0\n",
    "        # We need change and average gain for the first calculation.\n",
    "        # Calculate the 1st-day change and average gain\n",
    "        up_df.iloc[0] = 0\n",
    "        down_df.iloc[0] = 0\n",
    "        # Calculate the EWMA (Exponential Weighted Moving Average)\n",
    "        roll_up1 = up_df.ewm(span=14).mean()\n",
    "        roll_down1 = down_df.ewm(span=14).mean()\n",
    "        # Calculate the RSI based on EWMA\n",
    "        RS1 = roll_up1 / roll_down1\n",
    "        RSI1 = 100.0 - (100.0 / (1.0 + RS1))\n",
    "        rsi = RSI1 # save it for later\n",
    "        \n",
    "        # Calculate MACD (Moving Average Convergence Divergence)\n",
    "        exp1 = prices.ewm(span=12, adjust=False).mean()\n",
    "        # Calculate the 26-day EMA\n",
    "        exp2 = prices.ewm(span=26, adjust=False).mean()\n",
    "        # Subtract 26-day EMA from 12-day EMA, and you will get the first MACD\n",
    "        macd = exp1 - exp2\n",
    "        # Calculate the 9-day EMA of the MACD above\n",
    "        exp3 = macd.ewm(span=9, adjust=False).mean()\n",
    "        # Plot the MACD and exp3\n",
    "        macd = macd - exp3\n",
    "        # save it for later\n",
    "        macd = macd.iloc[-1]\n",
    "        macd_signal = exp3.iloc[-1] # the signal line\n",
    "        macd_hist = macd - macd_signal # the histogram\n",
    "        ma200 = prices.rolling(200).mean().iloc[-1] # 200 day moving average\n",
    "        ma50 = prices.rolling(50).mean().iloc[-1] # 50 day moving average\n",
    "        ma20 = prices.rolling(20).mean().iloc[-1] # 20 day moving average\n",
    "        sma = prices.rolling(5).mean().iloc[-1] # 5 day simple moving average\n",
    "        ema = prices.ewm(span=5, adjust=False).mean().iloc[-1] # 5 day exponential moving average\n",
    "\n",
    "        # Calculate Bollinger Bands\n",
    "        # Calculating the Upper and Lower Bands\n",
    "        # We will be using a 14 day window\n",
    "        window = 14\n",
    "        # Calculate rolling mean and standard deviation using number of days set above\n",
    "        rolling_mean = prices.rolling(window).mean()\n",
    "        rolling_std = prices.rolling(window).std()\n",
    "        # Create two new DataFrame columns to hold values of upper and lower Bollinger bands\n",
    "        upper_band = pd.Series()\n",
    "        upper_band = rolling_mean + (rolling_std * 2)\n",
    "        lower_band = rolling_mean - (rolling_std * 2)\n",
    "\n",
    "        # Add to dataframe\n",
    "        print(f'Adding technical indicators for {row[\"ticker\"]} to dataframe\\n\\t...')\n",
    "        #^ Add the RSI\n",
    "        crypto_data = add_me(crypto_data, rsi, 'rsi')\n",
    "        #^ Add the MACD\n",
    "        crypto_data = add_me(crypto_data, macd, 'macd')\n",
    "        #^ Add the SMA from the Bollinger Bands\n",
    "        crypto_data = add_me(crypto_data, rolling_mean, 'sma')\n",
    "        #^ Add the EMA from the Bollinger Bands\n",
    "        crypto_data = add_me(crypto_data, ema, 'ema')\n",
    "        #^ Add the 200 day moving average\n",
    "        crypto_data = add_me(crypto_data, ma200, 'ma200')\n",
    "        #^ Add the 50 day moving average\n",
    "        crypto_data = add_me(crypto_data, ma50, 'ma50') \n",
    "        #^ Add the 20 day moving average\n",
    "        crypto_data = add_me(crypto_data, ma20, 'ma20')\n",
    "        #^ Add the 5 day simple moving average\n",
    "        crypto_data = add_me(crypto_data, sma, 'sma')\n",
    "        #^ Add the 5 day exponential moving average\n",
    "        crypto_data = add_me(crypto_data, ema, 'ema')\n",
    "        #^ Add the MACD signal line\n",
    "        crypto_data = add_me(crypto_data, macd_signal, 'macd_signal')\n",
    "        #^ Add the MACD histogram\n",
    "        crypto_data = add_me(crypto_data, macd_hist, 'macd_hist')\n",
    "        #^ Add the Upper Band\n",
    "        crypto_data = add_me(crypto_data, upper_band, 'upper_band')\n",
    "        #^ Add the Lower Band\n",
    "        crypto_data = add_me(crypto_data, lower_band, 'lower_band')\n",
    "    # save the crypto_data dataframe to a csv file\n",
    "    crypto_data.to_csv('crypto_data.csv', index=False)\n",
    "    return crypto_data\n"
   ]
  },
  {
   "cell_type": "code",
   "execution_count": null,
   "metadata": {},
   "outputs": [],
   "source": [
    "from colorama import Fore, Back, Style\n",
    "color_options = [\n",
    "    Fore.BLACK,\n",
    "    Fore.RED,\n",
    "    Fore.GREEN,\n",
    "    Fore.YELLOW,\n",
    "    Fore.BLUE,\n",
    "    Fore.MAGENTA,\n",
    "    Fore.CYAN,\n",
    "    Fore.WHITE,\n",
    "    Fore.LIGHTBLACK_EX,\n",
    "    Fore.LIGHTRED_EX,\n",
    "    Fore.LIGHTGREEN_EX,\n",
    "    Fore.LIGHTYELLOW_EX,\n",
    "    Fore.LIGHTBLUE_EX,\n",
    "    Fore.LIGHTMAGENTA_EX,\n",
    "    Fore.LIGHTCYAN_EX\n",
    "]\n",
    "background_options = [\n",
    "    Back.BLACK,\n",
    "    Back.RED,\n",
    "    Back.GREEN,\n",
    "    Back.YELLOW,\n",
    "    Back.BLUE,\n",
    "    Back.MAGENTA,\n",
    "    Back.CYAN,\n",
    "    Back.WHITE,\n",
    "    Back.LIGHTBLACK_EX,\n",
    "    Back.LIGHTRED_EX,\n",
    "    Back.LIGHTGREEN_EX,\n",
    "    Back.LIGHTYELLOW_EX,\n",
    "    Back.LIGHTBLUE_EX,\n",
    "    Back.LIGHTMAGENTA_EX,\n",
    "    Back.LIGHTCYAN_EX\n",
    "]\n",
    "style_options = [\n",
    "    Style.DIM,\n",
    "    Style.NORMAL,\n",
    "    Style.BRIGHT,\n",
    "]"
   ]
  },
  {
   "cell_type": "code",
   "execution_count": null,
   "metadata": {},
   "outputs": [],
   "source": [
    "def update_signals():\n",
    "    stop_loss = 0.95 # 5% loss\n",
    "    take_profit = 1.03 # 3% profit\n",
    "    global crypto_data # make it global so we can update it\n",
    "    crypto_data = pd.read_csv('crypto_data.csv')\n",
    "    try:\n",
    "        # Generate trading signals based on technical indicators\n",
    "        for index, row in tqdm(crypto_data.iterrows()):\n",
    "            # Convert historical_prices to a list if it's not already\n",
    "            if isinstance(row['historical_prices'], str):\n",
    "                historical_prices = [float(price) for price in row['historical_prices'].strip('[]').split(',')]\n",
    "            else:\n",
    "                historical_prices = [float(x) for x in row['historical_prices']]\n",
    "\n",
    "            # convert all values to floats in the row that are numbers\n",
    "            for col in crypto_data.columns[1:]:\n",
    "                try:\n",
    "                    # drop NaN values\n",
    "                    if row[col] == 'NaN':\n",
    "                        crypto_data.loc[index, col] = np.nan\n",
    "                    else:\n",
    "                        crypto_data.loc[index, col] = float(row[col])\n",
    "                except:\n",
    "                    pass\n",
    "\n",
    "            historical_prices_last_5 = historical_prices[-5:]\n",
    "            # Calculate the percent change over the last 5 hours\n",
    "            if all(price != 0.0 for price in historical_prices_last_5):\n",
    "                # if all the values are not zero, calculate the percent change\n",
    "                pct_change_5h = (float(row['current_price']) - historical_prices_last_5[-1]) / historical_prices_last_5[-1]\n",
    "            else:\n",
    "                # calculate the percent change from the last non-zero value\n",
    "                try:\n",
    "                    for price in historical_prices_last_5:\n",
    "                        if price != 0.0:\n",
    "                            pct_change_5h = (float(row['current_price']) - price) / price\n",
    "                            break\n",
    "                except:\n",
    "                    pct_change_5h = 0.0  # or handle the zero values differently\n",
    "\n",
    "            # ─── Signal Calculations ──────────────────────────────\n",
    "\n",
    "\n",
    "            #print(f'pct_change_5h: {pct_change_5h}')\n",
    "            crypto_data.loc[index, 'signal'] = 0  # set the default value of signal to 0\n",
    "            # Check the conditions for each signal\n",
    "            if (float(row['rsi']) < 30) and (float(row['macd']) > 0):  # if the rsi dips below 30 indicating oversold and the macd is positive, buy\n",
    "                # if the signal is a buy background is green and text should be black\n",
    "                print(Fore.BLACK + f'BUY SIGNAL: {row[\"ticker\"]}' + Fore.RESET)\n",
    "                crypto_data.loc[index, 'signal'] +=1\n",
    "            elif (float(row['rsi']) > 70) and (float(row['macd']) < 0):  # if the rsi goes above 70 indicating overbought and the macd is negative, sell\n",
    "                print(Fore.GREEN + f'SELL SIGNAL: {row[\"ticker\"]}' + Fore.RESET)\n",
    "                crypto_data.loc[index, 'signal'] -= -1\n",
    "            elif (float(row['macd']) > float(row['macd_signal'])) and (float(row['current_price']) > float(row['sma'])):  # if the macd line crosses above the signal line and the price is above the SMA, buy\n",
    "                print(Fore.YELLOW + f'BUY SIGNAL: {row[\"ticker\"]}' + Fore.RESET)\n",
    "                crypto_data.loc[index, 'signal'] += 1\n",
    "            elif (float(row['macd']) < float(row['macd_signal'])) and (float(row['current_price']) < float(row['sma'])):  # if the macd line crosses below the signal line and the price is below the SMA, sell\n",
    "                print(Fore.RED + f'SELL SIGNAL: {row[\"ticker\"]}' + Fore.RESET)\n",
    "                crypto_data.loc[index, 'signal'] += -1\n",
    "            elif (float(row['current_price']) > float(row['ma200'])):  # if the price crosses above the 200-day moving average, buy\n",
    "                print(Fore.BLUE + f'BUY SIGNAL: {row[\"ticker\"]}' + Fore.RESET)\n",
    "                crypto_data.loc[index, 'signal'] += 1\n",
    "            elif (float(row['current_price']) < float(row['ma200'])):  # if the price crosses below the 200-day moving average, sell\n",
    "                print(Back.GREEN + f'SELL SIGNAL: {row[\"ticker\"]}' + Fore.RESET)\n",
    "                crypto_data.loc[index, 'signal'] += -1\n",
    "            elif (pct_change_5h > 0.05):  # if the price has increased by more than 5% in the last 5 hours, buy\n",
    "                print(Back.MAGENTA + f'BUY SIGNAL: {row[\"ticker\"]}' + Fore.RESET)\n",
    "                crypto_data.loc[index, 'signal'] += 1\n",
    "            elif (pct_change_5h < -0.05):  # if the price has decreased by more than 5% in the last 5 hours, sell\n",
    "                print(Fore.LIGHTMAGENTA_EX + f'SELL SIGNAL: {row[\"ticker\"]}' + Fore.RESET)\n",
    "                crypto_data.loc[index, 'signal'] += -1\n",
    "            else:\n",
    "                crypto_data.loc[index, 'signal'] = 0\n",
    "            \n",
    "            # consider limit loss and take profit here\n",
    "            # if the value of the coin has risen by the take profit percentage, sell\n",
    "            if (float(row['current_price']) / float(row['buy_price'])) > take_profit:\n",
    "                print(Back.BLACK + Fore.GREEN + f'TAKE PROFIT: {row[\"ticker\"]}' + Fore.RESET)\n",
    "                crypto_data.loc[index, 'signal'] -= -1\n",
    "            elif (float(row['current_price']) / float(row['buy_price'])) < stop_loss:\n",
    "                print(Back.BLACK + Fore.RED + f'STOP LOSS: {row[\"ticker\"]}' + Fore.RESET)\n",
    "                crypto_data.loc[index, 'signal'] -=1\n",
    "            \n",
    "            # using stop_loss and take_profit variables\n",
    "        # save the crypto_data dataframe to a csv file\n",
    "        crypto_data.to_csv('crypto_data.csv', index=False)\n",
    "        return crypto_data\n",
    "    except Exception as e:\n",
    "        crypto_data.loc[index, 'signal'] = 0\n",
    "        print(f'Error: {e}')\n",
    "        return crypto_data\n"
   ]
  },
  {
   "cell_type": "code",
   "execution_count": null,
   "metadata": {},
   "outputs": [
    {
     "name": "stderr",
     "output_type": "stream",
     "text": [
      "  0%|          | 0/18 [00:00<?, ?it/s]"
     ]
    },
    {
     "name": "stdout",
     "output_type": "stream",
     "text": [
      "found 18 positions.\n"
     ]
    },
    {
     "name": "stderr",
     "output_type": "stream",
     "text": [
      "100%|██████████| 18/18 [00:00<00:00, 34426.57it/s]\n",
      "  6%|▌         | 1/18 [00:01<00:32,  1.88s/it]"
     ]
    },
    {
     "name": "stdout",
     "output_type": "stream",
     "text": [
      "found 18 positions.\n"
     ]
    },
    {
     "name": "stderr",
     "output_type": "stream",
     "text": [
      "100%|██████████| 18/18 [00:00<00:00, 57719.78it/s]\n",
      " 11%|█         | 2/18 [00:03<00:26,  1.66s/it]"
     ]
    },
    {
     "name": "stdout",
     "output_type": "stream",
     "text": [
      "found 18 positions.\n"
     ]
    },
    {
     "name": "stderr",
     "output_type": "stream",
     "text": [
      "100%|██████████| 18/18 [00:00<00:00, 304425.29it/s]\n",
      " 17%|█▋        | 3/18 [00:05<00:24,  1.64s/it]"
     ]
    },
    {
     "name": "stdout",
     "output_type": "stream",
     "text": [
      "found 18 positions.\n"
     ]
    },
    {
     "name": "stderr",
     "output_type": "stream",
     "text": [
      "100%|██████████| 18/18 [00:00<00:00, 156309.47it/s]\n",
      " 22%|██▏       | 4/18 [00:06<00:22,  1.63s/it]"
     ]
    },
    {
     "name": "stdout",
     "output_type": "stream",
     "text": [
      "found 18 positions.\n"
     ]
    },
    {
     "name": "stderr",
     "output_type": "stream",
     "text": [
      "100%|██████████| 18/18 [00:00<00:00, 87482.59it/s]\n",
      " 28%|██▊       | 5/18 [00:08<00:20,  1.61s/it]"
     ]
    },
    {
     "name": "stdout",
     "output_type": "stream",
     "text": [
      "found 18 positions.\n"
     ]
    },
    {
     "name": "stderr",
     "output_type": "stream",
     "text": [
      "100%|██████████| 18/18 [00:00<00:00, 28170.70it/s]\n",
      " 33%|███▎      | 6/18 [00:09<00:19,  1.58s/it]"
     ]
    },
    {
     "name": "stdout",
     "output_type": "stream",
     "text": [
      "found 18 positions.\n"
     ]
    },
    {
     "name": "stderr",
     "output_type": "stream",
     "text": [
      "100%|██████████| 18/18 [00:00<00:00, 139551.70it/s]\n",
      " 39%|███▉      | 7/18 [00:11<00:17,  1.62s/it]"
     ]
    },
    {
     "name": "stdout",
     "output_type": "stream",
     "text": [
      "found 18 positions.\n"
     ]
    },
    {
     "name": "stderr",
     "output_type": "stream",
     "text": [
      "100%|██████████| 18/18 [00:00<00:00, 69840.40it/s]\n",
      " 44%|████▍     | 8/18 [00:12<00:15,  1.57s/it]"
     ]
    },
    {
     "name": "stdout",
     "output_type": "stream",
     "text": [
      "found 18 positions.\n"
     ]
    },
    {
     "name": "stderr",
     "output_type": "stream",
     "text": [
      "100%|██████████| 18/18 [00:00<00:00, 315889.00it/s]\n",
      " 50%|█████     | 9/18 [00:14<00:14,  1.58s/it]"
     ]
    },
    {
     "name": "stdout",
     "output_type": "stream",
     "text": [
      "found 18 positions.\n"
     ]
    },
    {
     "name": "stderr",
     "output_type": "stream",
     "text": [
      "100%|██████████| 18/18 [00:00<00:00, 309415.87it/s]\n",
      " 56%|█████▌    | 10/18 [00:16<00:12,  1.60s/it]"
     ]
    },
    {
     "name": "stdout",
     "output_type": "stream",
     "text": [
      "found 18 positions.\n"
     ]
    },
    {
     "name": "stderr",
     "output_type": "stream",
     "text": [
      "100%|██████████| 18/18 [00:00<00:00, 66400.59it/s]\n",
      " 61%|██████    | 11/18 [00:17<00:11,  1.66s/it]"
     ]
    },
    {
     "name": "stdout",
     "output_type": "stream",
     "text": [
      "found 18 positions.\n"
     ]
    },
    {
     "name": "stderr",
     "output_type": "stream",
     "text": [
      "100%|██████████| 18/18 [00:00<00:00, 155025.61it/s]\n",
      " 67%|██████▋   | 12/18 [00:19<00:09,  1.62s/it]"
     ]
    },
    {
     "name": "stdout",
     "output_type": "stream",
     "text": [
      "found 18 positions.\n"
     ]
    },
    {
     "name": "stderr",
     "output_type": "stream",
     "text": [
      "100%|██████████| 18/18 [00:00<00:00, 321265.84it/s]\n",
      " 72%|███████▏  | 13/18 [00:20<00:07,  1.51s/it]"
     ]
    }
   ],
   "source": [
    "\n",
    "crypto_data = get_crypto_data(cryptos, crypto_data)\n",
    "\n",
    "crypto_data.to_csv('crypto_data.csv', index=False)\n",
    "# show the dataframe\n",
    "crypto_data.head()"
   ]
  },
  {
   "cell_type": "code",
   "execution_count": null,
   "metadata": {},
   "outputs": [
    {
     "ename": "NameError",
     "evalue": "name 'r' is not defined",
     "output_type": "error",
     "traceback": [
      "\u001b[0;31m---------------------------------------------------------------------------\u001b[0m",
      "\u001b[0;31mNameError\u001b[0m                                 Traceback (most recent call last)",
      "Cell \u001b[0;32mIn[1], line 1\u001b[0m\n\u001b[0;32m----> 1\u001b[0m \u001b[39mdir\u001b[39m(r\u001b[39m.\u001b[39morders)\n",
      "\u001b[0;31mNameError\u001b[0m: name 'r' is not defined"
     ]
    }
   ],
   "source": [
    "dir(r.orders)"
   ]
  },
  {
   "cell_type": "code",
   "execution_count": null,
   "metadata": {},
   "outputs": [],
   "source": [
    "import time\n",
    "import datetime\n",
    "from ratelimit import limits, sleep_and_retry\n",
    "\n",
    "# @sleep_and_retry\n",
    "# def sell_coin(coin, current_price, buying_power, volume, crypto_positions):\n",
    "#     # use robin stocks to sell the coin\n",
    "#     # if we are selling everything then cancel all other sell orders first\n",
    "#     if volume == crypto_positions[coin]:\n",
    "#         r.cancel_all_crypto_orders(coin)\n",
    "#     # sell the coin\n",
    "#     r.order_sell_crypto_by_quantity(\n",
    "#         symbol=coin,\n",
    "#         quantity=volume,\n",
    "#         timeInForce='gtc',\n",
    "#         jsonify=True\n",
    "#     )\n",
    "#     print(f'Selling {volume} {coin} at {current_price}...')\n",
    "#     # calculate the new buying power\n",
    "#     buying_power += current_price * volume\n",
    "#     # return the new buying power\n",
    "#     time.sleep(1)\n",
    "#     return buying_power\n",
    "\n",
    "# @sleep_and_retry\n",
    "# def buy_coin(coin, current_price, buying_power, dollars_spent):\n",
    "#     # use robin stocks to buy the coin\n",
    "#     r.order_buy_crypto_by_price(\n",
    "#         symbol=coin,\n",
    "#         amountInDollars=dollars_spent,\n",
    "#         timeInForce='gtc',\n",
    "#         jsonify=True\n",
    "#     )\n",
    "#     print(f'Buying {dollars_spent} {coin} at {current_price}...')\n",
    "#     # calculate the new buying power\n",
    "#     buying_power -= dollars_spent\n",
    "#     # return the new buying power\n",
    "#     time.sleep(1)\n",
    "#     return buying_power\n"
   ]
  },
  {
   "cell_type": "code",
   "execution_count": null,
   "metadata": {},
   "outputs": [],
   "source": [
    "def order_crypto(symbol, quantity_or_price, amount_in='dollars', side='buy'):\n",
    "    \"\"\"\n",
    "    The order_crypto function is used to place a crypto order.\n",
    "\n",
    "    :param symbol: Specify the coin you want to buy\n",
    "    :param quantity_or_price: Specify the amount of crypto you want to buy or sell\n",
    "    :param amount_in: Specify the amount of money you want to spend on buying a coin\n",
    "    :param side: Specify whether you want to buy or sell the coin\n",
    "    :return: A dictionary with the following keys:\n",
    "    :doc-author: Trelent\n",
    "    \"\"\"\n",
    "\n",
    "    if side == 'buy':\n",
    "        amountIn = 'dollars'\n",
    "    else:\n",
    "        amountIn = 'quantity'\n",
    "\n",
    "    # cast the quantity_or_price to a string\n",
    "    quantity_or_price = str(quantity_or_price)\n",
    "    \n",
    "    try:\n",
    "        # use robin stocks to buy the coin\n",
    "        r.orders.order_crypto(\n",
    "            symbol=str(symbol),\n",
    "            quantityOrPrice=float(quantity_or_price),\n",
    "            amountIn=str(amount_in), # either 'quantity' or 'dollars'\n",
    "            side=str(side),\n",
    "            timeInForce='gtc',\n",
    "            jsonify=True\n",
    "        )\n",
    "    except Exception as e:\n",
    "        raise e\n",
    "\n",
    "    "
   ]
  },
  {
   "cell_type": "code",
   "execution_count": null,
   "metadata": {},
   "outputs": [
    {
     "name": "stdout",
     "output_type": "stream",
     "text": [
      "I can only play with 15.222 dollars\n"
     ]
    }
   ],
   "source": [
    "\n",
    "\n",
    "buying_limiter = 0.60 # only use 60% of the buying power\n",
    "\n",
    "# Read the crypto_data.csv file with the correct data types\n",
    "crypto_data = pd.read_csv('crypto_data.csv', converters={'historical_prices': eval})\n",
    "buying_power = float(r.profiles.load_account_profile(info='crypto_buying_power')) * float(buying_limiter) # only use 60% of the buying power\n",
    "\n",
    "def is_daytime():\n",
    "    # CHECK TIME OF DAY IN CENTRAL STANDARD TIME\n",
    "    current_time = datetime.datetime.now()\n",
    "    if current_time.hour >= 11 and current_time.hour <= 23:\n",
    "        return True\n",
    "    else:\n",
    "        return False\n",
    "\n",
    "print(f'I can only play with {buying_power} dollars')\n",
    "\n",
    "# def main_loop():\n",
    "#     \"\"\"\n",
    "#     The main_loop function is the main function of this program. It runs every ten minutes and updates the signals for each coin, then checks if we own any coins or not. If we do, it will check to see if there are any sell signals (signal &lt; -0.5) and sell 70% of our holdings in that coin; otherwise, it will check to see if there are buy signals (signal &gt; 0.5) and buy 50% of 1% of our buying power worth in that coin.\n",
    "    \n",
    "#     :return: The following:\n",
    "#     :doc-author: Trelent\n",
    "#     \"\"\"\n",
    "#     global crypto_data\n",
    "#     global buying_limiter\n",
    "#     # cast the numeric columns to float in the crypto_data dataframe\n",
    "#     for column in ['signal', 'current_price', 'buy_price', 'buy_volume', 'sell_volume']:\n",
    "#         try:\n",
    "#             crypto_data[column] = crypto_data[column].astype(float)\n",
    "#         except:\n",
    "#             pass\n",
    "#     buying_power = float(r.profiles.load_account_profile(info='crypto_buying_power')) * buying_limiter # only use 60% of the buying power\n",
    "    \n",
    "#     while True:\n",
    "#         # cancel all orders\n",
    "#         r.cancel_all_crypto_orders()\n",
    "#         time.sleep(10)\n",
    "        \n",
    "#         # CHECK TIME OF DAY IN CENTRAL STANDARD TIME\n",
    "#         current_time = datetime.datetime.now()\n",
    "    \n",
    "#         # IF ITS AFTER 11PM AND BEFORE 5AM, THEN THE MARKET IS CLOSED SO ONLY DEAL WITH CRYPTO, ALSO ALL SIGNALS SHOULD HAVE A REDUCED BUY_VOLUME BY REDUCING BUY_IN BY 90% KEEPING SELL VOLUMES THE SAME.\n",
    "#         if current_time.hour >= 23 or current_time.hour < 5:\n",
    "#             buying_limiter = 1 # 100% of buying power during the day\n",
    "#             pass\n",
    "#         else:\n",
    "#             buying_limiter = 0.02 # 2% of buying power at night\n",
    "        \n",
    "        \n",
    "#         crypto_data = get_crypto_data(cryptos, crypto_data)\n",
    "#         try:\n",
    "#             # Update signals\n",
    "#             # Replace with your own function or code to update signals\n",
    "#             update_signals()\n",
    "\n",
    "#             # Get the current time\n",
    "#             now = datetime.datetime.now()\n",
    "\n",
    "#             for index, row in crypto_data.iterrows():\n",
    "#                 coin = row['ticker']\n",
    "#                 signal = row['signal']\n",
    "#                 current_price = float(row['current_price'])\n",
    "#                 buying_power = float(row['buying_power'])\n",
    "#                 coin_holdings = float(row['coin_holdings'])\n",
    "#                 try:\n",
    "#                     crypto_positions = row['crypto_positions']\n",
    "#                 except:\n",
    "#                     crypto_positions = coin_holdings\n",
    "#                 print(f' >> {row[\"ticker\"]} << signal: {row[\"signal\"]}, holding: {row[\"coin_holdings\"]}, ${buying_power}')\n",
    "\n",
    "#                 try:\n",
    "#                     # Check if we own the coin\n",
    "#                     if coin_holdings > 0:\n",
    "#                         pass\n",
    "#                     else:\n",
    "#                         # We do not own the coin\n",
    "#                         # buy 0.25 USD worth of the coin if the signal is 1\n",
    "#                         try:\n",
    "#                             if signal == 1:\n",
    "#                                 # use order_crypto to buy the coin\n",
    "#                                 order_crypto(\n",
    "#                                     symbol = coin,\n",
    "#                                     quantity_or_price = 0.25 * buying_limiter,\n",
    "#                                     amount_in = 'dollars',\n",
    "#                                     side = 'buy'\n",
    "#                                 )\n",
    "#                             elif signal > 1:\n",
    "#                                 # Buy 1% for every number over 1\n",
    "#                                 # use order_crypto to buy the coin\n",
    "#                                 order_crypto(\n",
    "#                                     symbol = coin,\n",
    "#                                     quantity_or_price = (0.01 * (signal - 1) + 0.01) * buying_power * buying_limiter,\n",
    "#                                     amount_in = 'dollars',\n",
    "#                                     side = 'buy'\n",
    "#                                 )\n",
    "#                         except Exception as e:\n",
    "#                             print(f'Error: {e}')\n",
    "#                             logger.error(f\"An error occurred: {e}, {traceback.format_exc()}, {dir(e)}\")\n",
    "#                             continue\n",
    "\n",
    "#                     # We own the coin\n",
    "#                     # Case One: The price is below the lowest value in the last five hours, meaning the price is dropping and we should sell the coin if we bought it at a higher price, or buy the coin if we don't own it\n",
    "#                     list_prices = row['historical_prices']\n",
    "#                     list_five_latest = list_prices[-5:]\n",
    "#                     # cast the list to floats\n",
    "#                     list_five_latest = [float(i) for i in list_five_latest]\n",
    "#                     minimum = min(list_five_latest)\n",
    "#                     if current_price < minimum:\n",
    "#                         # Price is below the lowest value in the last five hours\n",
    "#                         if coin_holdings > 0:\n",
    "#                             # We own the coin\n",
    "#                             # Sell 100% of the holdings\n",
    "#                             # use order_crypto to sell the coin\n",
    "#                             order_crypto(\n",
    "#                                 symbol = coin,\n",
    "#                                 quantity_or_price = coin_holdings,\n",
    "#                                 amount_in = 'quantity',\n",
    "#                                 side = 'sell'\n",
    "#                             )\n",
    "#                             #log it \n",
    "#                             logger.info(f' [!] ---> Selling {coin_holdings} {coin} at {current_price}...')\n",
    "#                             # calculate the new buying power\n",
    "#                             buying_power += current_price * coin_holdings\n",
    "#                         else:\n",
    "#                             # We do not own the coin\n",
    "#                             # Calculate the amount of dollars to spend\n",
    "#                             dollars_spent = 0.005 * buying_power\n",
    "#                             print(f'Buying {dollars_spent} {coin} at {current_price}...')\n",
    "#                             # Buy the coin\n",
    "#                             # use order_crypto to buy the coin\n",
    "#                             order_crypto(\n",
    "#                                 symbol=coin,\n",
    "#                                 quantity_or_price=dollars_spent,\n",
    "#                                 amount_in='dollars',\n",
    "#                                 side='buy'\n",
    "#                             )\n",
    "#                             #log it \n",
    "#                             logger.info(Fore.Green + f' [!] ---> Buying {dollars_spent} {coin} at {current_price}...')\n",
    "#                             buying_power -= dollars_spent\n",
    "#                     if signal == -1:\n",
    "#                         # Sell 70% of the holdings\n",
    "#                         # use order_crypto to sell the coin\n",
    "#                         order_crypto(\n",
    "#                             symbol=coin,\n",
    "#                             quantity_or_price=0.7 * coin_holdings,\n",
    "#                             amount_in='quantity',\n",
    "#                             side='sell'\n",
    "#                         )\n",
    "#                         # calculate the new buying power\n",
    "#                         buying_power += current_price * coin_holdings\n",
    "#                     if signal < -1:\n",
    "#                         # Sell 100% of the holdings\n",
    "#                         # use order_crypto to sell the coin\n",
    "#                         order_crypto(\n",
    "#                             symbol = coin,\n",
    "#                             quantity_or_price = coin_holdings,\n",
    "#                             amount_in = 'quantity',\n",
    "#                             side = 'sell'\n",
    "#                         )\n",
    "#                         #log it \n",
    "#                         logger.info(f' [!] ---> Selling {coin_holdings} {coin} at {current_price}...')\n",
    "#                         # calculate the new buying power\n",
    "#                         buying_power += current_price * coin_holdings\n",
    "#                     if signal == 1:\n",
    "#                         # Buy 50% of 1% of the buying power\n",
    "#                         # use r.orders to buy the coin\n",
    "#                         order_crypto(\n",
    "#                             symbol = coin,\n",
    "#                             quantity_or_price = 0.005 * buying_power,\n",
    "#                             amount_in = 'dollars',\n",
    "#                             side = 'buy'\n",
    "#                         )\n",
    "#                         #log it \n",
    "#                         logger.info(f'Buying {0.005 * buying_power} {coin} at {current_price}...')\n",
    "                    \n",
    "#                         print(f'Buying {0.005 * buying_power} {coin} at {current_price}...')\n",
    "#                         # reduce the buying power\n",
    "#                         buying_power -= 0.005 * buying_power\n",
    "#                     if signal > 1:\n",
    "#                         # Buy 1% for every number over 1\n",
    "#                         # use r.orders to buy the coin\n",
    "#                         order_crypto(\n",
    "#                             symbol = coin,\n",
    "#                             quantity_or_price = (0.01 * (signal - 1) + 0.01) * buying_power,\n",
    "#                             amount_in = 'dollars',\n",
    "#                             side = 'buy'\n",
    "#                         )\n",
    "#                         #log it\n",
    "#                         logger.info(f'Buying {(0.01 * (signal - 1) + 0.01) * buying_power} {coin} at {current_price}...')\n",
    "#                         print(f'Buying {(0.01 * (signal - 1) + 0.01) * buying_power} {coin} at {current_price}...')\n",
    "#                         ic()\n",
    "#                         # reduce the buying power\n",
    "#                         buying_power -= (0.01 * (signal - 1) + 0.01) * buying_power\n",
    "#                 except Exception as e:\n",
    "#                     logger.error(f\"An error occurred: {e}, {traceback.format_exc()}, {dir(e)}\")\n",
    "#                     print(f'Error: {e}')\n",
    "#                     continue\n",
    "\n",
    "\n",
    "#         except Exception as e:\n",
    "#             logger.error(f\"An error occurred: {e}, {traceback.format_exc()}, {dir(e)}\")\n",
    "#                 # Wait for ten minutes and show a loading bar\n",
    "#         # print out a detailed synopsis of the results so far\n",
    "#         print(f'Current holdings: {r.get_crypto_positions()}')\n",
    "#         print(f'Current buying power: {r.profiles.load_account_profile(info=\"crypto_buying_power\")}')\n",
    "#         # profits\n",
    "#         print(f'Current profits: {r.profiles.load_account_profile(info=\"crypto_day_traded_profit_loss\")}')\n",
    "#         # wait for ten minutes\n",
    "#         # if daytime then wait 5 minutes\n",
    "#         # if night time then wait 30 minutes\n",
    "#         if is_daytime():\n",
    "#             print('Waiting 5 minutes...')\n",
    "#             for i in tqdm(range(60*5)):\n",
    "#                 time.sleep(1)\n",
    "#         else:\n",
    "            \n",
    "#             print('Waiting 30 minutes...')\n",
    "#             for i in tqdm(range(60*30)):\n",
    "#                 time.sleep(1)\n"
   ]
  },
  {
   "cell_type": "code",
   "execution_count": null,
   "metadata": {},
   "outputs": [],
   "source": [
    "def main_loop():\n",
    "    \"\"\"\n",
    "    The main_loop function is the main function of this program. It runs every ten minutes and updates the signals for each coin, then checks if we own any coins or not. If we do, it will check to see if there are any sell signals (signal &lt; -0.5) and sell 70% of our holdings in that coin; otherwise, it will check to see if there are buy signals (signal &gt; 0.5) and buy 50% of 1% of our buying power worth in that coin.\n",
    "    \n",
    "    :return: The following:\n",
    "    :doc-author: Trelent\n",
    "    \"\"\"\n",
    "    global crypto_data\n",
    "    \n",
    "    while True:\n",
    "        # cancel all orders\n",
    "        r.cancel_all_crypto_orders()\n",
    "        time.sleep(10)\n",
    "        \n",
    "        # CHECK TIME OF DAY IN CENTRAL STANDARD TIME\n",
    "        current_time = datetime.datetime.now()\n",
    "    \n",
    "        # IF ITS AFTER 11PM AND BEFORE 5AM, THEN THE MARKET IS CLOSED SO ONLY DEAL WITH CRYPTO, ALSO ALL SIGNALS SHOULD HAVE A REDUCED BUY_VOLUME BY REDUCING BUY_IN BY 90% KEEPING SELL VOLUMES THE SAME.\n",
    "        buying_limiter = 1 if current_time.hour >= 23 or current_time.hour < 5 else 0.02\n",
    "        \n",
    "        crypto_data = get_crypto_data(cryptos, crypto_data)\n",
    "        \n",
    "        try:\n",
    "            update_signals()\n",
    "            now = datetime.datetime.now()\n",
    "\n",
    "            for index, row in tqdm(crypto_data.iterrows()):\n",
    "                coin = row['ticker']\n",
    "                signal = row['signal']\n",
    "                current_price = float(row['current_price'])\n",
    "                buying_power = float(row['buying_power'])\n",
    "                coin_holdings = float(row['coin_holdings'])\n",
    "                crypto_positions = coin_holdings\n",
    "\n",
    "                print(f' >> {row[\"ticker\"]} << signal: {row[\"signal\"]}, holding: {row[\"coin_holdings\"]}, ${buying_power}')\n",
    "\n",
    "                if coin_holdings > 0 and signal < 0:\n",
    "                    # We own the coin and signal indicates selling\n",
    "                    quantity = 0.7 * coin_holdings if signal == -1 else coin_holdings\n",
    "                    order_crypto(symbol=coin, quantity_or_price=quantity, amount_in='quantity', side='sell')\n",
    "                    buying_power += current_price * quantity\n",
    "                    logger.info(Fore.RED + f' [!] ---> Selling {quantity} {coin} at {current_price}...' + Fore.RESET)\n",
    "                elif signal > 0:\n",
    "                    # Signal indicates buying\n",
    "                    amount = 0.005 * buying_power if signal == 1 else (0.01 * (signal - 1) + 0.01) * buying_power\n",
    "                    order_crypto(symbol=coin, quantity_or_price=amount, amount_in='dollars', side='buy')\n",
    "                    buying_power -= amount\n",
    "                    logger.info(Fore.GREEN + f' [!] ---> Buying {amount} {coin} at {current_price}...' + Fore.RESET)\n",
    "\n",
    "                # Handling lowest value in last 5 hours condition\n",
    "                list_prices = row['historical_prices']\n",
    "                list_five_latest = list_prices[-5:] #todo what units are these in?\n",
    "                minimum = min(list_five_latest)\n",
    "                if isinstance(minimum, str):\n",
    "                    minimum = float(minimum)\n",
    "                    logging.info(f'Converting minimum: {minimum} to float... it was a string')\n",
    "                if isinstance(minimum, list):\n",
    "                    minimum = float(minimum[0])\n",
    "                    logging.info(f'Converting minimum: {minimum} to float... it was a list')\n",
    "                else:\n",
    "                    minimum = float(minimum)\n",
    "                    logging.info(f'Converting minimum: {minimum} to float... it was a string')\n",
    "                if current_price < minimum:\n",
    "                    if coin_holdings > 0:\n",
    "                        order_crypto(symbol=coin, quantity_or_price=coin_holdings, amount_in='quantity', side='sell')\n",
    "                        buying_power += current_price * coin_holdings\n",
    "                        logger.info(Fore.RED + f' [!] ---> Selling {coin_holdings} {coin} at {current_price}...' + Fore.RESET)\n",
    "                    else:\n",
    "                        dollars_spent = 0.005 * buying_power\n",
    "                        order_crypto(symbol=coin, quantity_or_price=dollars_spent, amount_in='dollars', side='buy')\n",
    "                        buying_power -= dollars_spent\n",
    "                        logger.info(Fore.GREEN + f' [!] ---> Buying {dollars_spent} {coin} at {current_price}...' + Fore.RESET)\n",
    "            tqdm.write(f'we have {buying_power} left')\n",
    "        except Exception as e:\n",
    "            logger.error(f\"An error occurred: {e}, {traceback.format_exc()}, {dir(e)}\")\n",
    "\n",
    "        # Wait for ten minutes and show a loading bar\n",
    "        print(f'Current holdings: {r.get_crypto_positions()}')\n",
    "        print(f'Current buying power: {r.profiles.load_account_profile(info=\"crypto_buying_power\")}')\n",
    "        print(f'Current profits: {r.profiles.load_account_profile(info=\"crypto_day_traded_profit_loss\")}')\n",
    "        \n",
    "        # if daytime then wait 5 minutes\n",
    "        # if night time then wait 30 minutes\n",
    "        wait_time = 5 if is_daytime() else 30\n",
    "        print(f'Waiting {wait_time} minutes...')\n",
    "        for i in tqdm(range(60*wait_time)):\n",
    "            time.sleep(1)\n"
   ]
  },
  {
   "cell_type": "code",
   "execution_count": null,
   "metadata": {},
   "outputs": [],
   "source": [
    "# emergency sell all crypto\n",
    "if panic_mode:\n",
    "    for index, row in crypto_data.iterrows():\n",
    "        coin = row['ticker']\n",
    "        coin_holdings = float(row['coin_holdings'])\n",
    "        if coin_holdings > 0:\n",
    "            r.order_sell_crypto_by_quantity(\n",
    "                symbol=coin,\n",
    "                quantity=coin_holdings,\n",
    "                timeInForce='gtc',\n",
    "                jsonify=True\n",
    "            )\n",
    "            print(f'Selling {coin_holdings} {coin}...')\n",
    "        else:\n",
    "            print(f'No holdings for {coin}...')\n",
    "        "
   ]
  },
  {
   "cell_type": "code",
   "execution_count": null,
   "metadata": {},
   "outputs": [
    {
     "name": "stdout",
     "output_type": "stream",
     "text": [
      "Found Additional pages.\n",
      "Loading page 2 ...\n",
      "Loading page 3 ...\n",
      "Loading page 4 ...\n",
      "Loading page 5 ...\n",
      "Loading page 6 ...\n",
      "Loading page 7 ...\n",
      "Loading page 8 ...\n",
      "Loading page 9 ...\n",
      "Loading page 10 ...\n",
      "Loading page 11 ...\n",
      "Loading page 12 ...\n",
      "Loading page 13 ...\n",
      "Loading page 14 ...\n",
      "Loading page 15 ...\n",
      "Loading page 16 ...\n",
      "Loading page 17 ...\n",
      "Loading page 18 ...\n",
      "Loading page 19 ...\n",
      "Loading page 20 ...\n",
      "Loading page 21 ...\n",
      "Loading page 22 ...\n",
      "Loading page 23 ...\n",
      "Loading page 24 ...\n",
      "Loading page 25 ...\n",
      "Loading page 26 ...\n",
      "Loading page 27 ...\n",
      "Loading page 28 ...\n",
      "Loading page 29 ...\n",
      "Loading page 30 ...\n",
      "Loading page 31 ...\n",
      "Loading page 32 ...\n",
      "Loading page 33 ...\n",
      "Loading page 34 ...\n",
      "Loading page 35 ...\n",
      "Loading page 36 ...\n",
      "Loading page 37 ...\n",
      "Loading page 38 ...\n",
      "Loading page 39 ...\n",
      "Loading page 40 ...\n",
      "Loading page 41 ...\n",
      "Loading page 42 ...\n",
      "Loading page 43 ...\n",
      "Loading page 44 ...\n",
      "Loading page 45 ...\n",
      "Loading page 46 ...\n",
      "Loading page 47 ...\n",
      "Loading page 48 ...\n",
      "Loading page 49 ...\n",
      "Loading page 50 ...\n",
      "Loading page 51 ...\n",
      "Loading page 52 ...\n",
      "Loading page 53 ...\n",
      "Loading page 54 ...\n",
      "Loading page 55 ...\n",
      "Loading page 56 ...\n",
      "Loading page 57 ...\n",
      "Loading page 58 ...\n",
      "Loading page 59 ...\n",
      "Loading page 60 ...\n",
      "Loading page 61 ...\n",
      "Loading page 62 ...\n",
      "Loading page 63 ...\n",
      "Loading page 64 ...\n",
      "Loading page 65 ...\n",
      "Loading page 66 ...\n",
      "Loading page 67 ...\n",
      "Loading page 68 ...\n",
      "Loading page 69 ...\n",
      "Loading page 70 ...\n",
      "Loading page 71 ...\n",
      "Loading page 72 ...\n",
      "All Crypto Orders Cancelled\n"
     ]
    },
    {
     "name": "stderr",
     "output_type": "stream",
     "text": [
      "  0%|          | 0/18 [00:00<?, ?it/s]"
     ]
    },
    {
     "name": "stdout",
     "output_type": "stream",
     "text": [
      "found 18 positions.\n"
     ]
    },
    {
     "name": "stderr",
     "output_type": "stream",
     "text": [
      "100%|██████████| 18/18 [00:00<00:00, 72246.38it/s]\n",
      "  6%|▌         | 1/18 [00:01<00:26,  1.57s/it]"
     ]
    },
    {
     "name": "stdout",
     "output_type": "stream",
     "text": [
      "found 18 positions.\n"
     ]
    },
    {
     "name": "stderr",
     "output_type": "stream",
     "text": [
      "100%|██████████| 18/18 [00:00<00:00, 155344.59it/s]\n",
      " 11%|█         | 2/18 [00:03<00:24,  1.55s/it]"
     ]
    },
    {
     "name": "stdout",
     "output_type": "stream",
     "text": [
      "found 18 positions.\n"
     ]
    },
    {
     "name": "stderr",
     "output_type": "stream",
     "text": [
      "100%|██████████| 18/18 [00:00<00:00, 166661.09it/s]\n",
      " 17%|█▋        | 3/18 [00:04<00:21,  1.45s/it]"
     ]
    },
    {
     "name": "stdout",
     "output_type": "stream",
     "text": [
      "found 18 positions.\n"
     ]
    },
    {
     "name": "stderr",
     "output_type": "stream",
     "text": [
      "100%|██████████| 18/18 [00:00<00:00, 241979.08it/s]\n",
      " 22%|██▏       | 4/18 [00:05<00:20,  1.49s/it]"
     ]
    },
    {
     "name": "stdout",
     "output_type": "stream",
     "text": [
      "found 18 positions.\n"
     ]
    },
    {
     "name": "stderr",
     "output_type": "stream",
     "text": [
      "100%|██████████| 18/18 [00:00<00:00, 222051.39it/s]\n",
      " 28%|██▊       | 5/18 [00:07<00:19,  1.52s/it]"
     ]
    },
    {
     "name": "stdout",
     "output_type": "stream",
     "text": [
      "found 18 positions.\n"
     ]
    },
    {
     "name": "stderr",
     "output_type": "stream",
     "text": [
      "100%|██████████| 18/18 [00:00<00:00, 125829.12it/s]\n",
      " 33%|███▎      | 6/18 [00:09<00:17,  1.50s/it]"
     ]
    },
    {
     "name": "stdout",
     "output_type": "stream",
     "text": [
      "found 18 positions.\n"
     ]
    },
    {
     "name": "stderr",
     "output_type": "stream",
     "text": [
      "100%|██████████| 18/18 [00:00<00:00, 227402.02it/s]\n",
      " 39%|███▉      | 7/18 [00:10<00:16,  1.48s/it]"
     ]
    },
    {
     "name": "stdout",
     "output_type": "stream",
     "text": [
      "found 18 positions.\n"
     ]
    },
    {
     "name": "stderr",
     "output_type": "stream",
     "text": [
      "100%|██████████| 18/18 [00:00<00:00, 52501.72it/s]\n",
      " 44%|████▍     | 8/18 [00:12<00:15,  1.51s/it]"
     ]
    },
    {
     "name": "stdout",
     "output_type": "stream",
     "text": [
      "found 18 positions.\n"
     ]
    },
    {
     "name": "stderr",
     "output_type": "stream",
     "text": [
      "100%|██████████| 18/18 [00:00<00:00, 80316.46it/s]\n",
      " 50%|█████     | 9/18 [00:13<00:13,  1.47s/it]"
     ]
    },
    {
     "name": "stdout",
     "output_type": "stream",
     "text": [
      "found 18 positions.\n"
     ]
    },
    {
     "name": "stderr",
     "output_type": "stream",
     "text": [
      "100%|██████████| 18/18 [00:00<00:00, 246723.76it/s]\n",
      " 56%|█████▌    | 10/18 [00:15<00:12,  1.52s/it]"
     ]
    },
    {
     "name": "stdout",
     "output_type": "stream",
     "text": [
      "found 18 positions.\n"
     ]
    },
    {
     "name": "stderr",
     "output_type": "stream",
     "text": [
      "100%|██████████| 18/18 [00:00<00:00, 90960.81it/s]\n",
      " 61%|██████    | 11/18 [00:16<00:10,  1.53s/it]"
     ]
    },
    {
     "name": "stdout",
     "output_type": "stream",
     "text": [
      "found 18 positions.\n"
     ]
    },
    {
     "name": "stderr",
     "output_type": "stream",
     "text": [
      "100%|██████████| 18/18 [00:00<00:00, 11936.36it/s]\n",
      " 67%|██████▋   | 12/18 [00:18<00:09,  1.52s/it]"
     ]
    },
    {
     "name": "stdout",
     "output_type": "stream",
     "text": [
      "found 18 positions.\n"
     ]
    },
    {
     "name": "stderr",
     "output_type": "stream",
     "text": [
      "100%|██████████| 18/18 [00:00<00:00, 59776.30it/s]\n",
      " 72%|███████▏  | 13/18 [00:19<00:07,  1.54s/it]"
     ]
    },
    {
     "name": "stdout",
     "output_type": "stream",
     "text": [
      "found 18 positions.\n"
     ]
    },
    {
     "name": "stderr",
     "output_type": "stream",
     "text": [
      "100%|██████████| 18/18 [00:00<00:00, 162360.15it/s]\n",
      " 78%|███████▊  | 14/18 [00:21<00:06,  1.52s/it]"
     ]
    },
    {
     "name": "stdout",
     "output_type": "stream",
     "text": [
      "found 18 positions.\n"
     ]
    },
    {
     "name": "stderr",
     "output_type": "stream",
     "text": [
      "100%|██████████| 18/18 [00:00<00:00, 211477.51it/s]\n",
      " 83%|████████▎ | 15/18 [00:22<00:04,  1.56s/it]"
     ]
    },
    {
     "name": "stdout",
     "output_type": "stream",
     "text": [
      "found 18 positions.\n"
     ]
    },
    {
     "name": "stderr",
     "output_type": "stream",
     "text": [
      "100%|██████████| 18/18 [00:00<00:00, 9113.65it/s]\n",
      " 89%|████████▉ | 16/18 [00:24<00:03,  1.59s/it]"
     ]
    },
    {
     "name": "stdout",
     "output_type": "stream",
     "text": [
      "found 18 positions.\n"
     ]
    },
    {
     "name": "stderr",
     "output_type": "stream",
     "text": [
      "100%|██████████| 18/18 [00:00<00:00, 136523.46it/s]\n",
      " 94%|█████████▍| 17/18 [00:26<00:01,  1.60s/it]"
     ]
    },
    {
     "name": "stdout",
     "output_type": "stream",
     "text": [
      "found 18 positions.\n"
     ]
    },
    {
     "name": "stderr",
     "output_type": "stream",
     "text": [
      "100%|██████████| 18/18 [00:00<00:00, 245121.66it/s]\n",
      "100%|██████████| 18/18 [00:27<00:00,  1.54s/it]\n",
      "0it [00:00, ?it/s]/var/folders/34/d1tlq3k91hb0lj6x90xpzb4r0000gn/T/ipykernel_97630/915291528.py:165: DeprecationWarning: The default dtype for empty Series will be 'object' instead of 'float64' in a future version. Specify a dtype explicitly to silence this warning.\n",
      "  upper_band = pd.Series()\n",
      "34it [00:00, 164.79it/s]"
     ]
    },
    {
     "name": "stdout",
     "output_type": "stream",
     "text": [
      "Adding technical indicators for BTC to dataframe\n",
      "\t...\n",
      "Adding technical indicators for ETH to dataframe\n",
      "\t...\n",
      "Adding technical indicators for ADA to dataframe\n",
      "\t...\n",
      "Adding technical indicators for DOGE to dataframe\n",
      "\t...\n",
      "Adding technical indicators for MATIC to dataframe\n",
      "\t...\n",
      "Adding technical indicators for SHIB to dataframe\n",
      "\t...\n",
      "Adding technical indicators for ETC to dataframe\n",
      "\t...\n",
      "Adding technical indicators for UNI to dataframe\n",
      "\t...\n",
      "Adding technical indicators for AAVE to dataframe\n",
      "\t...\n",
      "Adding technical indicators for LTC to dataframe\n",
      "\t...\n",
      "Adding technical indicators for LINK to dataframe\n",
      "\t...\n",
      "Adding technical indicators for COMP to dataframe\n",
      "\t...\n",
      "Adding technical indicators for USDC to dataframe\n",
      "\t...\n",
      "Adding technical indicators for SOL to dataframe\n",
      "\t...\n",
      "Adding technical indicators for AVAX to dataframe\n",
      "\t...\n",
      "Adding technical indicators for XLM to dataframe\n",
      "\t...\n",
      "Adding technical indicators for BCH to dataframe\n",
      "\t...\n",
      "Adding technical indicators for XTZ to dataframe\n",
      "\t...\n",
      "Adding technical indicators for BTC to dataframe\n",
      "\t...\n",
      "Adding technical indicators for ETH to dataframe\n",
      "\t...\n",
      "Adding technical indicators for ADA to dataframe\n",
      "\t...\n",
      "Adding technical indicators for DOGE to dataframe\n",
      "\t...\n",
      "Adding technical indicators for MATIC to dataframe\n",
      "\t...\n",
      "Adding technical indicators for SHIB to dataframe\n",
      "\t...\n",
      "Adding technical indicators for ETC to dataframe\n",
      "\t...\n",
      "Adding technical indicators for UNI to dataframe\n",
      "\t...\n",
      "Adding technical indicators for AAVE to dataframe\n",
      "\t...\n",
      "Adding technical indicators for LTC to dataframe\n",
      "\t...\n",
      "Adding technical indicators for LINK to dataframe\n",
      "\t...\n",
      "Adding technical indicators for COMP to dataframe\n",
      "\t...\n",
      "Adding technical indicators for USDC to dataframe\n",
      "\t...\n",
      "Adding technical indicators for SOL to dataframe\n",
      "\t...\n",
      "Adding technical indicators for AVAX to dataframe\n",
      "\t...\n",
      "Adding technical indicators for XLM to dataframe\n",
      "\t...\n"
     ]
    },
    {
     "name": "stderr",
     "output_type": "stream",
     "text": [
      "36it [00:00, 161.89it/s]\n"
     ]
    },
    {
     "name": "stdout",
     "output_type": "stream",
     "text": [
      "Adding technical indicators for BCH to dataframe\n",
      "\t...\n",
      "Adding technical indicators for XTZ to dataframe\n",
      "\t...\n"
     ]
    },
    {
     "name": "stderr",
     "output_type": "stream",
     "text": [
      "0it [00:00, ?it/s]\n"
     ]
    },
    {
     "name": "stdout",
     "output_type": "stream",
     "text": [
      "\u001b[33mBUY SIGNAL: BTC\u001b[39m\n",
      "Error: 'buy_price'\n"
     ]
    },
    {
     "name": "stderr",
     "output_type": "stream",
     "text": [
      "0it [00:00, ?it/s]"
     ]
    },
    {
     "name": "stdout",
     "output_type": "stream",
     "text": [
      " >> BTC << signal: 0.0, holding: 0.000545, $25.37\n",
      " >> ETH << signal: nan, holding: 0.002215, $25.37\n",
      " >> ADA << signal: nan, holding: 0.11, $25.37\n",
      " >> DOGE << signal: nan, holding: 211.16, $25.37\n",
      " >> MATIC << signal: nan, holding: 0.0, $25.37\n"
     ]
    },
    {
     "name": "stderr",
     "output_type": "stream",
     "text": [
      "INFO:crypto_trader:\u001b[32m [!] ---> Buying 0.12685000000000002 MATIC at 0.723236843905465...\u001b[39m\n",
      "5it [00:01,  3.83it/s]\n",
      "ERROR:crypto_trader:An error occurred: could not convert string to float: '-', Traceback (most recent call last):\n",
      "  File \"/var/folders/34/d1tlq3k91hb0lj6x90xpzb4r0000gn/T/ipykernel_97630/453296569.py\", line 55, in main_loop\n",
      "    minimum = float(minimum.replace(',', ''))\n",
      "ValueError: could not convert string to float: '-'\n",
      ", ['__cause__', '__class__', '__context__', '__delattr__', '__dict__', '__dir__', '__doc__', '__eq__', '__format__', '__ge__', '__getattribute__', '__gt__', '__hash__', '__init__', '__init_subclass__', '__le__', '__lt__', '__ne__', '__new__', '__reduce__', '__reduce_ex__', '__repr__', '__setattr__', '__setstate__', '__sizeof__', '__str__', '__subclasshook__', '__suppress_context__', '__traceback__', 'args', 'with_traceback']\n"
     ]
    },
    {
     "name": "stdout",
     "output_type": "stream",
     "text": [
      " >> SHIB << signal: nan, holding: 100747.0, $25.37\n",
      "Current holdings: [{'account_id': '61f33e4c-8cc5-497e-a296-f0f9691a030e', 'cost_bases': [{'currency_id': '1072fc76-1862-41ab-82c2-485837590762', 'direct_cost_basis': '0.037672606713634480', 'direct_quantity': '0.110000000000000000', 'direct_reward_cost_basis': '0.000000000000000000', 'direct_reward_quantity': '0.000000000000000000', 'direct_transfer_cost_basis': '0.000000000000000000', 'direct_transfer_quantity': '0.000000000000000000', 'id': '6358937c-6d30-46e3-b76b-abc2bf2c7834', 'intraday_cost_basis': '0.000000000000000000', 'intraday_quantity': '0.000000000000000000', 'marked_cost_basis': '0.000000000000000000', 'marked_quantity': '0.000000000000000000'}], 'created_at': '2022-10-25T21:55:08.627884-04:00', 'currency': {'brand_color': '', 'code': 'ADA', 'crypto_type': 'BASE_ASSET', 'display_only': False, 'id': 'f5cd90c4-6058-4e2c-909d-2fe46bb80caf', 'increment': '0.000001000000000000', 'name': 'Cardano', 'type': 'cryptocurrency'}, 'id': '6358937c-3759-47f5-b3f1-32d74fae1ca3', 'quantity': '0.110000000000000000', 'quantity_available': '0.110000000000000000', 'quantity_held': '0.000000000000000000', 'quantity_held_for_buy': '0.000000000000000000', 'quantity_held_for_sell': '0.000000000000000000', 'quantity_staked': '0.000000000000000000', 'quantity_transferable': '0.110000000000000000', 'updated_at': '2023-06-10T00:23:17.944391-04:00'}, {'account_id': '61f33e4c-8cc5-497e-a296-f0f9691a030e', 'cost_bases': [{'currency_id': '1072fc76-1862-41ab-82c2-485837590762', 'direct_cost_basis': '0.000000000000000000', 'direct_quantity': '0.000000000000000000', 'direct_reward_cost_basis': '0.000000000000000000', 'direct_reward_quantity': '0.000000000000000000', 'direct_transfer_cost_basis': '0.000000000000000000', 'direct_transfer_quantity': '0.000000000000000000', 'id': '63589366-4dde-4709-84e1-1c33e45a09e8', 'intraday_cost_basis': '0.000000000000000000', 'intraday_quantity': '0.000000000000000000', 'marked_cost_basis': '0.000000000000000000', 'marked_quantity': '0.000000000000000000'}], 'created_at': '2022-10-25T21:54:46.600396-04:00', 'currency': {'brand_color': '', 'code': 'AAVE', 'crypto_type': 'BASE_ASSET', 'display_only': False, 'id': '884fd5dd-726a-4104-92c2-6d751f857827', 'increment': '0.000000000000000001', 'name': 'Aave', 'type': 'cryptocurrency'}, 'id': '63589366-5dd7-4ea5-8e2d-82c631c26725', 'quantity': '0.000000000000000000', 'quantity_available': '0.000000000000000000', 'quantity_held': '0.000000000000000000', 'quantity_held_for_buy': '0.000000000000000000', 'quantity_held_for_sell': '0.000000000000000000', 'quantity_staked': '0.000000000000000000', 'quantity_transferable': '0.000000000000000000', 'updated_at': '2023-06-04T16:47:30.794600-04:00'}, {'account_id': '61f33e4c-8cc5-497e-a296-f0f9691a030e', 'cost_bases': [{'currency_id': '1072fc76-1862-41ab-82c2-485837590762', 'direct_cost_basis': '0.073800000000000000', 'direct_quantity': '0.090000000000000000', 'direct_reward_cost_basis': '0.000000000000000000', 'direct_reward_quantity': '0.000000000000000000', 'direct_transfer_cost_basis': '0.000000000000000000', 'direct_transfer_quantity': '0.000000000000000000', 'id': '6358935a-c44f-492a-b779-57729060a553', 'intraday_cost_basis': '0.000000000000000000', 'intraday_quantity': '0.000000000000000000', 'marked_cost_basis': '0.000000000000000000', 'marked_quantity': '0.000000000000000000'}], 'created_at': '2022-10-25T21:54:34.357790-04:00', 'currency': {'brand_color': '', 'code': 'XTZ', 'crypto_type': 'BASE_ASSET', 'display_only': False, 'id': 'fef27b16-5eca-45f3-ae04-7533f4665f7b', 'increment': '0.000001000000000000', 'name': 'Tezos', 'type': 'cryptocurrency'}, 'id': '6358935a-9f05-45ab-a22b-cf1381e48807', 'quantity': '0.090000000000000000', 'quantity_available': '0.090000000000000000', 'quantity_held': '0.000000000000000000', 'quantity_held_for_buy': '0.000000000000000000', 'quantity_held_for_sell': '0.000000000000000000', 'quantity_staked': '0.000000000000000000', 'quantity_transferable': '0.090000000000000000', 'updated_at': '2023-06-10T12:48:39.424915-04:00'}, {'account_id': '61f33e4c-8cc5-497e-a296-f0f9691a030e', 'cost_bases': [{'currency_id': '1072fc76-1862-41ab-82c2-485837590762', 'direct_cost_basis': '0.000000000000000000', 'direct_quantity': '0.000000000000000000', 'direct_reward_cost_basis': '0.000000000000000000', 'direct_reward_quantity': '0.000000000000000000', 'direct_transfer_cost_basis': '0.000000000000000000', 'direct_transfer_quantity': '0.000000000000000000', 'id': '62f1afeb-4f47-4223-9f61-8c64ea919f78', 'intraday_cost_basis': '0.000000000000000000', 'intraday_quantity': '0.000000000000000000', 'marked_cost_basis': '0.000000000000000000', 'marked_quantity': '0.000000000000000000'}], 'created_at': '2022-08-08T20:52:59.036795-04:00', 'currency': {'brand_color': '', 'code': 'XLM', 'crypto_type': 'BASE_ASSET', 'display_only': False, 'id': '2989eeb7-b6c7-4b3b-b099-a273ba346c38', 'increment': '0.000000010000000000', 'name': 'Stellar Lumens', 'type': 'cryptocurrency'}, 'id': '62f1afeb-a2c2-40d6-b20d-c8dee94998f6', 'quantity': '0.000000000000000000', 'quantity_available': '0.000000000000000000', 'quantity_held': '0.000000000000000000', 'quantity_held_for_buy': '0.000000000000000000', 'quantity_held_for_sell': '0.000000000000000000', 'quantity_staked': '0.000000000000000000', 'quantity_transferable': '0.000000000000000000', 'updated_at': '2023-02-19T19:14:08.731150-05:00'}, {'account_id': '61f33e4c-8cc5-497e-a296-f0f9691a030e', 'cost_bases': [{'currency_id': '1072fc76-1862-41ab-82c2-485837590762', 'direct_cost_basis': '0.000000000000000000', 'direct_quantity': '0.000000000000000000', 'direct_reward_cost_basis': '0.000000000000000000', 'direct_reward_quantity': '0.000000000000000000', 'direct_transfer_cost_basis': '0.000000000000000000', 'direct_transfer_quantity': '0.000000000000000000', 'id': '62f1afde-4b72-48e6-a5ed-843140f43a13', 'intraday_cost_basis': '0.000000000000000000', 'intraday_quantity': '0.000000000000000000', 'marked_cost_basis': '0.000000000000000000', 'marked_quantity': '0.000000000000000000'}], 'created_at': '2022-08-08T20:52:46.775291-04:00', 'currency': {'brand_color': '', 'code': 'AVAX', 'crypto_type': 'BASE_ASSET', 'display_only': False, 'id': 'b8b501ae-e6d2-474c-8595-5049ff23d9f6', 'increment': '0.000000001000000000', 'name': 'Avalanche', 'type': 'cryptocurrency'}, 'id': '62f1afde-e0af-4022-b7fa-6a5b0271a568', 'quantity': '0.000000000000000000', 'quantity_available': '0.000000000000000000', 'quantity_held': '0.000000000000000000', 'quantity_held_for_buy': '0.000000000000000000', 'quantity_held_for_sell': '0.000000000000000000', 'quantity_staked': '0.000000000000000000', 'quantity_transferable': '0.000000000000000000', 'updated_at': '2023-02-28T20:48:12.083155-05:00'}, {'account_id': '61f33e4c-8cc5-497e-a296-f0f9691a030e', 'cost_bases': [{'currency_id': '1072fc76-1862-41ab-82c2-485837590762', 'direct_cost_basis': '0.000000000000000000', 'direct_quantity': '0.000000000000000000', 'direct_reward_cost_basis': '0.000000000000000000', 'direct_reward_quantity': '0.000000000000000000', 'direct_transfer_cost_basis': '0.000000000000000000', 'direct_transfer_quantity': '0.000000000000000000', 'id': '62d2ed01-7ced-4325-8394-bf7d40903023', 'intraday_cost_basis': '0.000000000000000000', 'intraday_quantity': '0.000000000000000000', 'marked_cost_basis': '0.000000000000000000', 'marked_quantity': '0.000000000000000000'}], 'created_at': '2022-07-16T12:53:21.855131-04:00', 'currency': {'brand_color': '', 'code': 'UNI', 'crypto_type': 'ERC20', 'display_only': False, 'id': '53820992-76d3-4db4-8611-0a9ec85d1a91', 'increment': '0.000000000000000001', 'name': 'Uniswap', 'type': 'cryptocurrency'}, 'id': '62d2ed01-0561-4fbf-b05e-f582e2b2727b', 'quantity': '0.000000000000000000', 'quantity_available': '0.000000000000000000', 'quantity_held': '0.000000000000000000', 'quantity_held_for_buy': '0.000000000000000000', 'quantity_held_for_sell': '0.000000000000000000', 'quantity_staked': '0.000000000000000000', 'quantity_transferable': '0.000000000000000000', 'updated_at': '2023-06-09T22:10:28.728173-04:00'}, {'account_id': '61f33e4c-8cc5-497e-a296-f0f9691a030e', 'cost_bases': [{'currency_id': '1072fc76-1862-41ab-82c2-485837590762', 'direct_cost_basis': '0.073731343283582090', 'direct_quantity': '0.010000000000000000', 'direct_reward_cost_basis': '0.000000000000000000', 'direct_reward_quantity': '0.000000000000000000', 'direct_transfer_cost_basis': '0.000000000000000000', 'direct_transfer_quantity': '0.000000000000000000', 'id': '62cf5695-f856-4c87-bd8e-cf4cade6527b', 'intraday_cost_basis': '0.000000000000000000', 'intraday_quantity': '0.000000000000000000', 'marked_cost_basis': '0.000000000000000000', 'marked_quantity': '0.000000000000000000'}], 'created_at': '2022-07-13T19:34:45.881243-04:00', 'currency': {'brand_color': '', 'code': 'LINK', 'crypto_type': 'ERC20', 'display_only': False, 'id': '8d47d48e-e49c-4e99-9c1e-154f53f2e685', 'increment': '0.000000000000000001', 'name': 'Chainlink', 'type': 'cryptocurrency'}, 'id': '62cf5695-501c-4fc0-b66a-29e399120448', 'quantity': '0.010000000000000000', 'quantity_available': '0.010000000000000000', 'quantity_held': '0.000000000000000000', 'quantity_held_for_buy': '0.000000000000000000', 'quantity_held_for_sell': '0.000000000000000000', 'quantity_staked': '0.000000000000000000', 'quantity_transferable': '0.010000000000000000', 'updated_at': '2023-06-10T00:12:15.934605-04:00'}, {'account_id': '61f33e4c-8cc5-497e-a296-f0f9691a030e', 'cost_bases': [{'currency_id': '1072fc76-1862-41ab-82c2-485837590762', 'direct_cost_basis': '0.000000000000000000', 'direct_quantity': '0.000000000000000000', 'direct_reward_cost_basis': '0.000000000000000000', 'direct_reward_quantity': '0.000000000000000000', 'direct_transfer_cost_basis': '0.000000000000000000', 'direct_transfer_quantity': '0.000000000000000000', 'id': '625b5a64-cfd4-4305-a906-797459f07a40', 'intraday_cost_basis': '0.000000000000000000', 'intraday_quantity': '0.000000000000000000', 'marked_cost_basis': '0.000000000000000000', 'marked_quantity': '0.000000000000000000'}], 'created_at': '2022-04-16T20:08:04.496442-04:00', 'currency': {'brand_color': '', 'code': 'MATIC', 'crypto_type': 'ERC20', 'display_only': False, 'id': 'e465003a-4790-44c6-b4e3-a43e6144e849', 'increment': '0.000000000000000001', 'name': 'Polygon', 'type': 'cryptocurrency'}, 'id': '625b5a64-061c-4f32-a744-0eff86c667f5', 'quantity': '0.000000000000000000', 'quantity_available': '0.000000000000000000', 'quantity_held': '0.000000000000000000', 'quantity_held_for_buy': '0.000000000000000000', 'quantity_held_for_sell': '0.000000000000000000', 'quantity_staked': '0.000000000000000000', 'quantity_transferable': '0.000000000000000000', 'updated_at': '2023-06-09T22:10:27.465330-04:00'}, {'account_id': '61f33e4c-8cc5-497e-a296-f0f9691a030e', 'cost_bases': [{'currency_id': '1072fc76-1862-41ab-82c2-485837590762', 'direct_cost_basis': '0.667668855813505528', 'direct_quantity': '100747.000000000000000000', 'direct_reward_cost_basis': '0.000000000000000000', 'direct_reward_quantity': '0.000000000000000000', 'direct_transfer_cost_basis': '0.000000000000000000', 'direct_transfer_quantity': '0.000000000000000000', 'id': '625b5a59-db4f-4f9f-9387-c4c06adbc0ef', 'intraday_cost_basis': '0.439091114327830972', 'intraday_quantity': '66128.000000000000000000', 'marked_cost_basis': '0.000000000000000000', 'marked_quantity': '0.000000000000000000'}], 'created_at': '2022-04-16T20:07:53.303763-04:00', 'currency': {'brand_color': '', 'code': 'SHIB', 'crypto_type': 'ERC20', 'display_only': False, 'id': '5ed4e8a1-5dcf-40a2-bff5-2eda98352fd8', 'increment': '0.010000000000000000', 'name': 'Shiba Inu', 'type': 'cryptocurrency'}, 'id': '625b5a59-1c3f-417d-b064-3e117adb3d84', 'quantity': '100747.000000000000000000', 'quantity_available': '100747.000000000000000000', 'quantity_held': '0.000000000000000000', 'quantity_held_for_buy': '0.000000000000000000', 'quantity_held_for_sell': '0.000000000000000000', 'quantity_staked': '0.000000000000000000', 'quantity_transferable': '100747.000000000000000000', 'updated_at': '2023-06-10T16:38:52.924074-04:00'}, {'account_id': '61f33e4c-8cc5-497e-a296-f0f9691a030e', 'cost_bases': [{'currency_id': '1072fc76-1862-41ab-82c2-485837590762', 'direct_cost_basis': '0.301639344262295082', 'direct_quantity': '0.009200000000000000', 'direct_reward_cost_basis': '0.000000000000000000', 'direct_reward_quantity': '0.000000000000000000', 'direct_transfer_cost_basis': '0.000000000000000000', 'direct_transfer_quantity': '0.000000000000000000', 'id': '625b5a4d-98fd-4c74-bf9b-05b22a55c316', 'intraday_cost_basis': '0.000000000000000000', 'intraday_quantity': '0.000000000000000000', 'marked_cost_basis': '0.000000000000000000', 'marked_quantity': '0.000000000000000000'}], 'created_at': '2022-04-16T20:07:41.107176-04:00', 'currency': {'brand_color': '', 'code': 'COMP', 'crypto_type': 'ERC20', 'display_only': False, 'id': '6543a22c-2746-49ed-8518-4f67751ffd3e', 'increment': '0.000000000000000001', 'name': 'Compound', 'type': 'cryptocurrency'}, 'id': '625b5a4d-10dc-406a-ba21-d5db1249d83c', 'quantity': '0.009200000000000000', 'quantity_available': '0.009200000000000000', 'quantity_held': '0.000000000000000000', 'quantity_held_for_buy': '0.000000000000000000', 'quantity_held_for_sell': '0.000000000000000000', 'quantity_staked': '0.000000000000000000', 'quantity_transferable': '0.009200000000000000', 'updated_at': '2023-06-10T00:28:58.957935-04:00'}, {'account_id': '61f33e4c-8cc5-497e-a296-f0f9691a030e', 'cost_bases': [{'currency_id': '1072fc76-1862-41ab-82c2-485837590762', 'direct_cost_basis': '0.000000000000000000', 'direct_quantity': '0.000000000000000000', 'direct_reward_cost_basis': '0.000000000000000000', 'direct_reward_quantity': '0.000000000000000000', 'direct_transfer_cost_basis': '0.000000000000000000', 'direct_transfer_quantity': '0.000000000000000000', 'id': '625b5a3e-083f-4726-bbaa-d4769761b655', 'intraday_cost_basis': '0.000000000000000000', 'intraday_quantity': '0.000000000000000000', 'marked_cost_basis': '0.000000000000000000', 'marked_quantity': '0.000000000000000000'}], 'created_at': '2022-04-16T20:07:26.603057-04:00', 'currency': {'brand_color': '', 'code': 'SOL', 'crypto_type': 'BASE_ASSET', 'display_only': False, 'id': 'c39cc1c2-2748-43b8-8779-30565ca4de2a', 'increment': '0.000000001000000000', 'name': 'Solana', 'type': 'cryptocurrency'}, 'id': '625b5a3e-ad59-4071-89f4-f9f35c8dc730', 'quantity': '0.000000000000000000', 'quantity_available': '0.000000000000000000', 'quantity_held': '0.000000000000000000', 'quantity_held_for_buy': '0.000000000000000000', 'quantity_held_for_sell': '0.000000000000000000', 'quantity_staked': '0.000000000000000000', 'quantity_transferable': '0.000000000000000000', 'updated_at': '2023-06-07T12:13:57.790829-04:00'}, {'account_id': '61f33e4c-8cc5-497e-a296-f0f9691a030e', 'cost_bases': [{'currency_id': '1072fc76-1862-41ab-82c2-485837590762', 'direct_cost_basis': '0.096390778528926135', 'direct_quantity': '0.000866680000000000', 'direct_reward_cost_basis': '0.000000000000000000', 'direct_reward_quantity': '0.000000000000000000', 'direct_transfer_cost_basis': '0.000000000000000000', 'direct_transfer_quantity': '0.000000000000000000', 'id': '621ea43d-e31d-41a8-848e-0a892f84573d', 'intraday_cost_basis': '0.000000000000000000', 'intraday_quantity': '0.000000000000000000', 'marked_cost_basis': '0.000000000000000000', 'marked_quantity': '0.000000000000000000'}], 'created_at': '2022-03-01T17:54:53.048108-05:00', 'currency': {'brand_color': '99C061', 'code': 'BCH', 'crypto_type': 'BASE_ASSET', 'display_only': False, 'id': '913a38ed-36f3-45fb-a967-fb6e30d4a7fb', 'increment': '0.000000010000000000', 'name': 'Bitcoin Cash', 'type': 'cryptocurrency'}, 'id': '621ea43d-825b-4caf-9f38-b6e47b2bc75b', 'quantity': '0.000866680000000000', 'quantity_available': '0.000866680000000000', 'quantity_held': '0.000000000000000000', 'quantity_held_for_buy': '0.000000000000000000', 'quantity_held_for_sell': '0.000000000000000000', 'quantity_staked': '0.000000000000000000', 'quantity_transferable': '0.000866680000000000', 'updated_at': '2023-06-10T11:14:02.209226-04:00'}, {'account_id': '61f33e4c-8cc5-497e-a296-f0f9691a030e', 'cost_bases': [{'currency_id': '1072fc76-1862-41ab-82c2-485837590762', 'direct_cost_basis': '0.000000000000000000', 'direct_quantity': '0.000000000000000000', 'direct_reward_cost_basis': '0.000000000000000000', 'direct_reward_quantity': '0.000000000000000000', 'direct_transfer_cost_basis': '0.000000000000000000', 'direct_transfer_quantity': '0.000000000000000000', 'id': '621ea430-832b-4bf0-a700-1768f8b856db', 'intraday_cost_basis': '0.000000000000000000', 'intraday_quantity': '0.000000000000000000', 'marked_cost_basis': '0.000000000000000000', 'marked_quantity': '0.000000000000000000'}], 'created_at': '2022-03-01T17:54:40.856577-05:00', 'currency': {'brand_color': '', 'code': 'BSV', 'crypto_type': 'BASE_ASSET', 'display_only': True, 'id': '4a7924c8-d554-47d6-8595-c4e522b0183a', 'increment': '0.000000010000000000', 'name': 'Bitcoin SV', 'type': 'cryptocurrency'}, 'id': '621ea430-2d31-428b-bbc2-c1240408ec76', 'quantity': '0.000000000000000000', 'quantity_available': '0.000000000000000000', 'quantity_held': '0.000000000000000000', 'quantity_held_for_buy': '0.000000000000000000', 'quantity_held_for_sell': '0.000000000000000000', 'quantity_staked': '0.000000000000000000', 'quantity_transferable': '0.000000000000000000', 'updated_at': '2023-01-26T07:38:57.715224-05:00'}, {'account_id': '61f33e4c-8cc5-497e-a296-f0f9691a030e', 'cost_bases': [{'currency_id': '1072fc76-1862-41ab-82c2-485837590762', 'direct_cost_basis': '10.670000000000000000', 'direct_quantity': '0.136776000000000000', 'direct_reward_cost_basis': '0.000000000000000000', 'direct_reward_quantity': '0.000000000000000000', 'direct_transfer_cost_basis': '0.000000000000000000', 'direct_transfer_quantity': '0.000000000000000000', 'id': '621ea408-380b-4520-9cd9-fdd600858a9f', 'intraday_cost_basis': '10.670000000000000000', 'intraday_quantity': '0.136776000000000000', 'marked_cost_basis': '0.000000000000000000', 'marked_quantity': '0.000000000000000000'}], 'created_at': '2022-03-01T17:54:00.363046-05:00', 'currency': {'brand_color': 'BEBBBB', 'code': 'LTC', 'crypto_type': 'BASE_ASSET', 'display_only': False, 'id': 'f9432751-b54d-4d84-b573-f06dc390b766', 'increment': '0.000000010000000000', 'name': 'Litecoin', 'type': 'cryptocurrency'}, 'id': '621ea408-7bd0-4fbf-8b35-29ba815f629f', 'quantity': '0.136776000000000000', 'quantity_available': '0.136776000000000000', 'quantity_held': '0.000000000000000000', 'quantity_held_for_buy': '0.000000000000000000', 'quantity_held_for_sell': '0.000000000000000000', 'quantity_staked': '0.000000000000000000', 'quantity_transferable': '0.136776000000000000', 'updated_at': '2023-06-10T16:38:20.192409-04:00'}, {'account_id': '61f33e4c-8cc5-497e-a296-f0f9691a030e', 'cost_bases': [{'currency_id': '1072fc76-1862-41ab-82c2-485837590762', 'direct_cost_basis': '0.144273148823580500', 'direct_quantity': '0.008577000000000000', 'direct_reward_cost_basis': '0.000000000000000000', 'direct_reward_quantity': '0.000000000000000000', 'direct_transfer_cost_basis': '0.000000000000000000', 'direct_transfer_quantity': '0.000000000000000000', 'id': '620e9ca6-e0b5-47ef-b80a-38d052b5c803', 'intraday_cost_basis': '0.000000000000000000', 'intraday_quantity': '0.000000000000000000', 'marked_cost_basis': '0.000000000000000000', 'marked_quantity': '0.000000000000000000'}], 'created_at': '2022-02-17T14:06:14.608932-05:00', 'currency': {'brand_color': '', 'code': 'ETC', 'crypto_type': 'BASE_ASSET', 'display_only': False, 'id': 'ee3bcf3e-4ac7-4f0a-b887-4cea2b49ff70', 'increment': '0.000001000000000000', 'name': 'Ethereum Classic', 'type': 'cryptocurrency'}, 'id': '620e9ca6-9dca-4ff5-a2eb-3ff8d452a826', 'quantity': '0.008577000000000000', 'quantity_available': '0.008577000000000000', 'quantity_held': '0.000000000000000000', 'quantity_held_for_buy': '0.000000000000000000', 'quantity_held_for_sell': '0.000000000000000000', 'quantity_staked': '0.000000000000000000', 'quantity_transferable': '0.008577000000000000', 'updated_at': '2023-06-10T04:38:06.265862-04:00'}, {'account_id': '61f33e4c-8cc5-497e-a296-f0f9691a030e', 'cost_bases': [{'currency_id': '1072fc76-1862-41ab-82c2-485837590762', 'direct_cost_basis': '12.960000000000000000', 'direct_quantity': '211.160000000000000000', 'direct_reward_cost_basis': '0.000000000000000000', 'direct_reward_quantity': '0.000000000000000000', 'direct_transfer_cost_basis': '0.000000000000000000', 'direct_transfer_quantity': '0.000000000000000000', 'id': '61f343b7-76a0-409e-94e9-643350505b86', 'intraday_cost_basis': '12.960000000000000000', 'intraday_quantity': '211.160000000000000000', 'marked_cost_basis': '0.000000000000000000', 'marked_quantity': '0.000000000000000000'}], 'created_at': '2022-01-27T20:15:35.668172-05:00', 'currency': {'brand_color': 'BEA649', 'code': 'DOGE', 'crypto_type': 'BASE_ASSET', 'display_only': False, 'id': 'c6996ebc-2f9b-443a-b2c2-7ddf02e0ef3a', 'increment': '0.010000000000000000', 'name': 'Dogecoin', 'type': 'cryptocurrency'}, 'id': '61f343b7-85c1-4c79-bbc6-3b61d0202afb', 'quantity': '211.160000000000000000', 'quantity_available': '211.160000000000000000', 'quantity_held': '0.000000000000000000', 'quantity_held_for_buy': '0.000000000000000000', 'quantity_held_for_sell': '0.000000000000000000', 'quantity_staked': '0.000000000000000000', 'quantity_transferable': '211.160000000000000000', 'updated_at': '2023-06-10T16:49:20.799365-04:00'}, {'account_id': '61f33e4c-8cc5-497e-a296-f0f9691a030e', 'cost_bases': [{'currency_id': '1072fc76-1862-41ab-82c2-485837590762', 'direct_cost_basis': '14.463206001233854160', 'direct_quantity': '0.000545000000000000', 'direct_reward_cost_basis': '0.000000000000000000', 'direct_reward_quantity': '0.000000000000000000', 'direct_transfer_cost_basis': '0.000000000000000000', 'direct_transfer_quantity': '0.000000000000000000', 'id': '61f3438f-563e-4e8d-89ed-f83c17541881', 'intraday_cost_basis': '13.130000000000000000', 'intraday_quantity': '0.000495000000000000', 'marked_cost_basis': '0.000000000000000000', 'marked_quantity': '0.000000000000000000'}], 'created_at': '2022-01-27T20:14:55.924522-05:00', 'currency': {'brand_color': 'EA963D', 'code': 'BTC', 'crypto_type': 'BASE_ASSET', 'display_only': False, 'id': 'd674efea-e623-4396-9026-39574b92b093', 'increment': '0.000000010000000000', 'name': 'Bitcoin', 'type': 'cryptocurrency'}, 'id': '61f3438f-aae9-44a6-95a4-107eabc796a9', 'quantity': '0.000545000000000000', 'quantity_available': '0.000545000000000000', 'quantity_held': '0.000000000000000000', 'quantity_held_for_buy': '0.000000000000000000', 'quantity_held_for_sell': '0.000000000000000000', 'quantity_staked': '0.000000000000000000', 'quantity_transferable': '0.000545000000000000', 'updated_at': '2023-06-10T16:38:27.078436-04:00'}, {'account_id': '61f33e4c-8cc5-497e-a296-f0f9691a030e', 'cost_bases': [{'currency_id': '1072fc76-1862-41ab-82c2-485837590762', 'direct_cost_basis': '4.130000000000000000', 'direct_quantity': '0.002215000000000000', 'direct_reward_cost_basis': '0.000000000000000000', 'direct_reward_quantity': '0.000000000000000000', 'direct_transfer_cost_basis': '0.000000000000000000', 'direct_transfer_quantity': '0.000000000000000000', 'id': '61f33e54-5dac-413e-896d-24726e3cdea5', 'intraday_cost_basis': '0.000000000000000000', 'intraday_quantity': '0.000000000000000000', 'marked_cost_basis': '0.000000000000000000', 'marked_quantity': '0.000000000000000000'}], 'created_at': '2022-01-27T19:52:36.593589-05:00', 'currency': {'brand_color': '707DB5', 'code': 'ETH', 'crypto_type': 'BASE_ASSET', 'display_only': False, 'id': 'c527c04a-394b-4a44-ae07-19b901ca609c', 'increment': '0.000000000000000001', 'name': 'Ethereum', 'type': 'cryptocurrency'}, 'id': '61f33e54-3109-41a7-aee6-7079578f049a', 'quantity': '0.002215000000000000', 'quantity_available': '0.002215000000000000', 'quantity_held': '0.000000000000000000', 'quantity_held_for_buy': '0.000000000000000000', 'quantity_held_for_sell': '0.000000000000000000', 'quantity_staked': '0.000000000000000000', 'quantity_transferable': '0.002215000000000000', 'updated_at': '2023-06-09T23:34:10.136319-04:00'}]\n",
      "Current buying power: 25.2400\n",
      "Error: The keyword \"crypto_day_traded_profit_loss\" is not a key in the dictionary.\n",
      "Current profits: None\n",
      "Waiting 5 minutes...\n"
     ]
    },
    {
     "name": "stderr",
     "output_type": "stream",
     "text": [
      "  3%|▎         | 10/300 [00:10<04:51,  1.00s/it]"
     ]
    }
   ],
   "source": [
    "main_loop()"
   ]
  },
  {
   "cell_type": "code",
   "execution_count": null,
   "metadata": {},
   "outputs": [],
   "source": []
  }
 ],
 "metadata": {
  "kernelspec": {
   "display_name": "base",
   "language": "python",
   "name": "python3"
  },
  "language_info": {
   "codemirror_mode": {
    "name": "ipython",
    "version": 3
   },
   "file_extension": ".py",
   "mimetype": "text/x-python",
   "name": "python",
   "nbconvert_exporter": "python",
   "pygments_lexer": "ipython3",
   "version": "3.9.6"
  },
  "orig_nbformat": 4
 },
 "nbformat": 4,
 "nbformat_minor": 2
}
