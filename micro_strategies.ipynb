{
 "cells": [
  {
   "cell_type": "code",
   "execution_count": 26,
   "metadata": {},
   "outputs": [
    {
     "name": "stdout",
     "output_type": "stream",
     "text": [
      "Logged in as \"graham.waters37@gmail.com\"\n"
     ]
    }
   ],
   "source": [
    "## Load credentials from config/credentials.ini\n",
    "#redo3.py\n",
    "#Author: Graham Waters, 2023\n",
    "#^ Essential Imports\n",
    "import asyncio\n",
    "import configparser\n",
    "import logging\n",
    "import os\n",
    "import random\n",
    "import sys\n",
    "import time\n",
    "import traceback\n",
    "from datetime import datetime\n",
    "#^ Non-Essential Imports\n",
    "import alive_progress\n",
    "import pandas as pd\n",
    "import pandas_ta\n",
    "import pandas_ta as ta\n",
    "from alive_progress import alive_bar\n",
    "from icecream import ic\n",
    "from pytz import timezone\n",
    "from robin_stocks import robinhood as r\n",
    "from tqdm import tqdm\n",
    "import numpy as np\n",
    "#^ Constants\n",
    "PCT_SPEND = 0.05 # 5% of buying power\n",
    "verbose_mode = True # Set to True to see more logging output\n",
    "from colorama import Back, Fore, Style\n",
    "from ratelimit import limits, sleep_and_retry\n",
    "config = configparser.ConfigParser()\n",
    "config.read('config/credentials.ini')\n",
    "# Define variables from config\n",
    "# Define variables from config\n",
    "coins = [coin.strip() for coin in config['trading']['coins'].split(', ')]\n",
    "stop_loss_percent = float(config['trading']['stop_loss_percent'])\n",
    "percent_to_use = float(config['trading']['percent_to_use'])\n",
    "verbose_mode = config['logging'].getboolean('verbose_mode')\n",
    "debug_verbose = config['logging'].getboolean('debug_verbose')\n",
    "reset_positions = config['logging'].getboolean('reset_positions')\n",
    "minimum_usd_per_position = float(config['trading']['minimum_usd_per_position'])\n",
    "pct_to_buy_with = float(config['trading']['percent_to_use'])\n",
    "pct_to_buy_per_trade = float(config['trading']['percent_to_spend_per_trade'])\n",
    "username = config['robinhood']['username']\n",
    "password = config['robinhood']['password']\n",
    "login = r.login(username, password)\n",
    "print(f\"Logged in as {username}\")\n",
    "# Function to get current price for a coin\n"
   ]
  },
  {
   "cell_type": "code",
   "execution_count": 27,
   "metadata": {},
   "outputs": [],
   "source": [
    "#!important\n",
    "# Locked Funds\n",
    "# Some coins should be locked from sale until they are redeemable.\n",
    "locked_positions = {}"
   ]
  },
  {
   "cell_type": "code",
   "execution_count": 28,
   "metadata": {},
   "outputs": [
    {
     "name": "stdout",
     "output_type": "stream",
     "text": [
      "Requirement already satisfied: schedule in /opt/anaconda3/lib/python3.9/site-packages (1.2.0)\n"
     ]
    }
   ],
   "source": [
    "!pip install schedule"
   ]
  },
  {
   "attachments": {},
   "cell_type": "markdown",
   "metadata": {},
   "source": [
    "# MicroStrategy One: The Night Watchman\n",
    "- Every night at Midnight CST, purchase $1.00 worth of Aave (AAVE) save the volume of coins purchased as a variable \"v_night\".\n",
    "- Every Moring at 3:00 AM CST, sell exactly \"v_night\" worth of AAVE.\n"
   ]
  },
  {
   "cell_type": "code",
   "execution_count": 29,
   "metadata": {},
   "outputs": [
    {
     "name": "stderr",
     "output_type": "stream",
     "text": [
      "Coins:   0%|          | 0/14 [00:00<?, ?it/s]"
     ]
    },
    {
     "name": "stdout",
     "output_type": "stream",
     "text": [
      "I can trade ['BTC', 'ETH', 'DOGE', 'SHIB', 'ETC', 'UNI', 'AAVE', 'LTC', 'LINK', 'COMP', 'AVAX', 'XLM', 'BCH', 'XTZ'] with a minimum of $3.0 per trade.\n",
      "Executing strategy for BTC\n"
     ]
    },
    {
     "name": "stderr",
     "output_type": "stream",
     "text": [
      "Coins:   7%|▋         | 1/14 [00:00<00:04,  3.24it/s]"
     ]
    },
    {
     "name": "stdout",
     "output_type": "stream",
     "text": [
      "Executing strategy for ETH\n"
     ]
    },
    {
     "name": "stderr",
     "output_type": "stream",
     "text": [
      "Coins:  14%|█▍        | 2/14 [00:00<00:03,  3.42it/s]"
     ]
    },
    {
     "name": "stdout",
     "output_type": "stream",
     "text": [
      "Executing strategy for DOGE\n"
     ]
    },
    {
     "name": "stderr",
     "output_type": "stream",
     "text": [
      "Coins:  21%|██▏       | 3/14 [00:00<00:03,  3.35it/s]"
     ]
    },
    {
     "name": "stdout",
     "output_type": "stream",
     "text": [
      "Executing strategy for SHIB\n"
     ]
    },
    {
     "name": "stderr",
     "output_type": "stream",
     "text": [
      "Coins:  29%|██▊       | 4/14 [00:01<00:02,  3.59it/s]"
     ]
    },
    {
     "name": "stdout",
     "output_type": "stream",
     "text": [
      "Executing strategy for ETC\n"
     ]
    },
    {
     "name": "stderr",
     "output_type": "stream",
     "text": [
      "Coins:  43%|████▎     | 6/14 [00:01<00:02,  3.88it/s]"
     ]
    },
    {
     "name": "stdout",
     "output_type": "stream",
     "text": [
      "Executing strategy for UNI\n",
      "Executing strategy for AAVE\n"
     ]
    },
    {
     "name": "stderr",
     "output_type": "stream",
     "text": [
      "Coins:  57%|█████▋    | 8/14 [00:02<00:01,  4.26it/s]"
     ]
    },
    {
     "name": "stdout",
     "output_type": "stream",
     "text": [
      "Executing strategy for LTC\n",
      "Executing strategy for LINK\n"
     ]
    },
    {
     "name": "stderr",
     "output_type": "stream",
     "text": [
      "Coins:  64%|██████▍   | 9/14 [00:02<00:01,  4.24it/s]"
     ]
    },
    {
     "name": "stdout",
     "output_type": "stream",
     "text": [
      "Executing strategy for COMP\n"
     ]
    },
    {
     "name": "stderr",
     "output_type": "stream",
     "text": [
      "Coins:  71%|███████▏  | 10/14 [00:02<00:00,  4.18it/s]"
     ]
    },
    {
     "name": "stdout",
     "output_type": "stream",
     "text": [
      "Executing strategy for AVAX\n"
     ]
    },
    {
     "name": "stderr",
     "output_type": "stream",
     "text": [
      "Coins:  79%|███████▊  | 11/14 [00:02<00:00,  4.20it/s]"
     ]
    },
    {
     "name": "stdout",
     "output_type": "stream",
     "text": [
      "Executing strategy for XLM\n"
     ]
    },
    {
     "name": "stderr",
     "output_type": "stream",
     "text": [
      "Coins:  93%|█████████▎| 13/14 [00:03<00:00,  4.42it/s]"
     ]
    },
    {
     "name": "stdout",
     "output_type": "stream",
     "text": [
      "Executing strategy for BCH\n",
      "Executing strategy for XTZ\n"
     ]
    },
    {
     "name": "stderr",
     "output_type": "stream",
     "text": [
      "                                                      \r"
     ]
    },
    {
     "ename": "TypeError",
     "evalue": "sell_coin() takes 1 positional argument but 2 were given",
     "output_type": "error",
     "traceback": [
      "\u001b[0;31m---------------------------------------------------------------------------\u001b[0m",
      "\u001b[0;31mTypeError\u001b[0m                                 Traceback (most recent call last)",
      "\u001b[0;32m/var/folders/34/d1tlq3k91hb0lj6x90xpzb4r0000gn/T/ipykernel_81881/989986802.py\u001b[0m in \u001b[0;36m<module>\u001b[0;34m\u001b[0m\n\u001b[1;32m    107\u001b[0m \u001b[0;34m\u001b[0m\u001b[0m\n\u001b[1;32m    108\u001b[0m \u001b[0;31m# Run the strategy\u001b[0m\u001b[0;34m\u001b[0m\u001b[0;34m\u001b[0m\u001b[0m\n\u001b[0;32m--> 109\u001b[0;31m \u001b[0mexecute_strategy\u001b[0m\u001b[0;34m(\u001b[0m\u001b[0;34m)\u001b[0m\u001b[0;34m\u001b[0m\u001b[0;34m\u001b[0m\u001b[0m\n\u001b[0m",
      "\u001b[0;32m/var/folders/34/d1tlq3k91hb0lj6x90xpzb4r0000gn/T/ipykernel_81881/989986802.py\u001b[0m in \u001b[0;36mexecute_strategy\u001b[0;34m()\u001b[0m\n\u001b[1;32m    103\u001b[0m     \u001b[0;31m# Keep the script running\u001b[0m\u001b[0;34m\u001b[0m\u001b[0;34m\u001b[0m\u001b[0m\n\u001b[1;32m    104\u001b[0m     \u001b[0;32mwhile\u001b[0m \u001b[0;32mTrue\u001b[0m\u001b[0;34m:\u001b[0m\u001b[0;34m\u001b[0m\u001b[0;34m\u001b[0m\u001b[0m\n\u001b[0;32m--> 105\u001b[0;31m         \u001b[0mschedule\u001b[0m\u001b[0;34m.\u001b[0m\u001b[0mrun_pending\u001b[0m\u001b[0;34m(\u001b[0m\u001b[0;34m)\u001b[0m\u001b[0;34m\u001b[0m\u001b[0;34m\u001b[0m\u001b[0m\n\u001b[0m\u001b[1;32m    106\u001b[0m         \u001b[0mtime\u001b[0m\u001b[0;34m.\u001b[0m\u001b[0msleep\u001b[0m\u001b[0;34m(\u001b[0m\u001b[0;36m1\u001b[0m\u001b[0;34m)\u001b[0m\u001b[0;34m\u001b[0m\u001b[0;34m\u001b[0m\u001b[0m\n\u001b[1;32m    107\u001b[0m \u001b[0;34m\u001b[0m\u001b[0m\n",
      "\u001b[0;32m/opt/anaconda3/lib/python3.9/site-packages/schedule/__init__.py\u001b[0m in \u001b[0;36mrun_pending\u001b[0;34m()\u001b[0m\n\u001b[1;32m    820\u001b[0m     \u001b[0;34m:\u001b[0m\u001b[0mdata\u001b[0m\u001b[0;34m:\u001b[0m\u001b[0;31m`\u001b[0m\u001b[0mdefault\u001b[0m \u001b[0mscheduler\u001b[0m \u001b[0minstance\u001b[0m \u001b[0;34m<\u001b[0m\u001b[0mdefault_scheduler\u001b[0m\u001b[0;34m>\u001b[0m\u001b[0;31m`\u001b[0m\u001b[0;34m.\u001b[0m\u001b[0;34m\u001b[0m\u001b[0;34m\u001b[0m\u001b[0m\n\u001b[1;32m    821\u001b[0m     \"\"\"\n\u001b[0;32m--> 822\u001b[0;31m     \u001b[0mdefault_scheduler\u001b[0m\u001b[0;34m.\u001b[0m\u001b[0mrun_pending\u001b[0m\u001b[0;34m(\u001b[0m\u001b[0;34m)\u001b[0m\u001b[0;34m\u001b[0m\u001b[0;34m\u001b[0m\u001b[0m\n\u001b[0m\u001b[1;32m    823\u001b[0m \u001b[0;34m\u001b[0m\u001b[0m\n\u001b[1;32m    824\u001b[0m \u001b[0;34m\u001b[0m\u001b[0m\n",
      "\u001b[0;32m/opt/anaconda3/lib/python3.9/site-packages/schedule/__init__.py\u001b[0m in \u001b[0;36mrun_pending\u001b[0;34m(self)\u001b[0m\n\u001b[1;32m     98\u001b[0m         \u001b[0mrunnable_jobs\u001b[0m \u001b[0;34m=\u001b[0m \u001b[0;34m(\u001b[0m\u001b[0mjob\u001b[0m \u001b[0;32mfor\u001b[0m \u001b[0mjob\u001b[0m \u001b[0;32min\u001b[0m \u001b[0mself\u001b[0m\u001b[0;34m.\u001b[0m\u001b[0mjobs\u001b[0m \u001b[0;32mif\u001b[0m \u001b[0mjob\u001b[0m\u001b[0;34m.\u001b[0m\u001b[0mshould_run\u001b[0m\u001b[0;34m)\u001b[0m\u001b[0;34m\u001b[0m\u001b[0;34m\u001b[0m\u001b[0m\n\u001b[1;32m     99\u001b[0m         \u001b[0;32mfor\u001b[0m \u001b[0mjob\u001b[0m \u001b[0;32min\u001b[0m \u001b[0msorted\u001b[0m\u001b[0;34m(\u001b[0m\u001b[0mrunnable_jobs\u001b[0m\u001b[0;34m)\u001b[0m\u001b[0;34m:\u001b[0m\u001b[0;34m\u001b[0m\u001b[0;34m\u001b[0m\u001b[0m\n\u001b[0;32m--> 100\u001b[0;31m             \u001b[0mself\u001b[0m\u001b[0;34m.\u001b[0m\u001b[0m_run_job\u001b[0m\u001b[0;34m(\u001b[0m\u001b[0mjob\u001b[0m\u001b[0;34m)\u001b[0m\u001b[0;34m\u001b[0m\u001b[0;34m\u001b[0m\u001b[0m\n\u001b[0m\u001b[1;32m    101\u001b[0m \u001b[0;34m\u001b[0m\u001b[0m\n\u001b[1;32m    102\u001b[0m     \u001b[0;32mdef\u001b[0m \u001b[0mrun_all\u001b[0m\u001b[0;34m(\u001b[0m\u001b[0mself\u001b[0m\u001b[0;34m,\u001b[0m \u001b[0mdelay_seconds\u001b[0m\u001b[0;34m:\u001b[0m \u001b[0mint\u001b[0m \u001b[0;34m=\u001b[0m \u001b[0;36m0\u001b[0m\u001b[0;34m)\u001b[0m \u001b[0;34m->\u001b[0m \u001b[0;32mNone\u001b[0m\u001b[0;34m:\u001b[0m\u001b[0;34m\u001b[0m\u001b[0;34m\u001b[0m\u001b[0m\n",
      "\u001b[0;32m/opt/anaconda3/lib/python3.9/site-packages/schedule/__init__.py\u001b[0m in \u001b[0;36m_run_job\u001b[0;34m(self, job)\u001b[0m\n\u001b[1;32m    170\u001b[0m \u001b[0;34m\u001b[0m\u001b[0m\n\u001b[1;32m    171\u001b[0m     \u001b[0;32mdef\u001b[0m \u001b[0m_run_job\u001b[0m\u001b[0;34m(\u001b[0m\u001b[0mself\u001b[0m\u001b[0;34m,\u001b[0m \u001b[0mjob\u001b[0m\u001b[0;34m:\u001b[0m \u001b[0;34m\"Job\"\u001b[0m\u001b[0;34m)\u001b[0m \u001b[0;34m->\u001b[0m \u001b[0;32mNone\u001b[0m\u001b[0;34m:\u001b[0m\u001b[0;34m\u001b[0m\u001b[0;34m\u001b[0m\u001b[0m\n\u001b[0;32m--> 172\u001b[0;31m         \u001b[0mret\u001b[0m \u001b[0;34m=\u001b[0m \u001b[0mjob\u001b[0m\u001b[0;34m.\u001b[0m\u001b[0mrun\u001b[0m\u001b[0;34m(\u001b[0m\u001b[0;34m)\u001b[0m\u001b[0;34m\u001b[0m\u001b[0;34m\u001b[0m\u001b[0m\n\u001b[0m\u001b[1;32m    173\u001b[0m         \u001b[0;32mif\u001b[0m \u001b[0misinstance\u001b[0m\u001b[0;34m(\u001b[0m\u001b[0mret\u001b[0m\u001b[0;34m,\u001b[0m \u001b[0mCancelJob\u001b[0m\u001b[0;34m)\u001b[0m \u001b[0;32mor\u001b[0m \u001b[0mret\u001b[0m \u001b[0;32mis\u001b[0m \u001b[0mCancelJob\u001b[0m\u001b[0;34m:\u001b[0m\u001b[0;34m\u001b[0m\u001b[0;34m\u001b[0m\u001b[0m\n\u001b[1;32m    174\u001b[0m             \u001b[0mself\u001b[0m\u001b[0;34m.\u001b[0m\u001b[0mcancel_job\u001b[0m\u001b[0;34m(\u001b[0m\u001b[0mjob\u001b[0m\u001b[0;34m)\u001b[0m\u001b[0;34m\u001b[0m\u001b[0;34m\u001b[0m\u001b[0m\n",
      "\u001b[0;32m/opt/anaconda3/lib/python3.9/site-packages/schedule/__init__.py\u001b[0m in \u001b[0;36mrun\u001b[0;34m(self)\u001b[0m\n\u001b[1;32m    691\u001b[0m \u001b[0;34m\u001b[0m\u001b[0m\n\u001b[1;32m    692\u001b[0m         \u001b[0mlogger\u001b[0m\u001b[0;34m.\u001b[0m\u001b[0mdebug\u001b[0m\u001b[0;34m(\u001b[0m\u001b[0;34m\"Running job %s\"\u001b[0m\u001b[0;34m,\u001b[0m \u001b[0mself\u001b[0m\u001b[0;34m)\u001b[0m\u001b[0;34m\u001b[0m\u001b[0;34m\u001b[0m\u001b[0m\n\u001b[0;32m--> 693\u001b[0;31m         \u001b[0mret\u001b[0m \u001b[0;34m=\u001b[0m \u001b[0mself\u001b[0m\u001b[0;34m.\u001b[0m\u001b[0mjob_func\u001b[0m\u001b[0;34m(\u001b[0m\u001b[0;34m)\u001b[0m\u001b[0;34m\u001b[0m\u001b[0;34m\u001b[0m\u001b[0m\n\u001b[0m\u001b[1;32m    694\u001b[0m         \u001b[0mself\u001b[0m\u001b[0;34m.\u001b[0m\u001b[0mlast_run\u001b[0m \u001b[0;34m=\u001b[0m \u001b[0mdatetime\u001b[0m\u001b[0;34m.\u001b[0m\u001b[0mdatetime\u001b[0m\u001b[0;34m.\u001b[0m\u001b[0mnow\u001b[0m\u001b[0;34m(\u001b[0m\u001b[0;34m)\u001b[0m\u001b[0;34m\u001b[0m\u001b[0;34m\u001b[0m\u001b[0m\n\u001b[1;32m    695\u001b[0m         \u001b[0mself\u001b[0m\u001b[0;34m.\u001b[0m\u001b[0m_schedule_next_run\u001b[0m\u001b[0;34m(\u001b[0m\u001b[0;34m)\u001b[0m\u001b[0;34m\u001b[0m\u001b[0;34m\u001b[0m\u001b[0m\n",
      "\u001b[0;32m/opt/anaconda3/lib/python3.9/site-packages/ratelimit/decorators.py\u001b[0m in \u001b[0;36mwrapper\u001b[0;34m(*args, **kargs)\u001b[0m\n\u001b[1;32m    111\u001b[0m         \u001b[0;32mwhile\u001b[0m \u001b[0;32mTrue\u001b[0m\u001b[0;34m:\u001b[0m\u001b[0;34m\u001b[0m\u001b[0;34m\u001b[0m\u001b[0m\n\u001b[1;32m    112\u001b[0m             \u001b[0;32mtry\u001b[0m\u001b[0;34m:\u001b[0m\u001b[0;34m\u001b[0m\u001b[0;34m\u001b[0m\u001b[0m\n\u001b[0;32m--> 113\u001b[0;31m                 \u001b[0;32mreturn\u001b[0m \u001b[0mfunc\u001b[0m\u001b[0;34m(\u001b[0m\u001b[0;34m*\u001b[0m\u001b[0margs\u001b[0m\u001b[0;34m,\u001b[0m \u001b[0;34m**\u001b[0m\u001b[0mkargs\u001b[0m\u001b[0;34m)\u001b[0m\u001b[0;34m\u001b[0m\u001b[0;34m\u001b[0m\u001b[0m\n\u001b[0m\u001b[1;32m    114\u001b[0m             \u001b[0;32mexcept\u001b[0m \u001b[0mRateLimitException\u001b[0m \u001b[0;32mas\u001b[0m \u001b[0mexception\u001b[0m\u001b[0;34m:\u001b[0m\u001b[0;34m\u001b[0m\u001b[0;34m\u001b[0m\u001b[0m\n\u001b[1;32m    115\u001b[0m                 \u001b[0mtime\u001b[0m\u001b[0;34m.\u001b[0m\u001b[0msleep\u001b[0m\u001b[0;34m(\u001b[0m\u001b[0mexception\u001b[0m\u001b[0;34m.\u001b[0m\u001b[0mperiod_remaining\u001b[0m\u001b[0;34m)\u001b[0m\u001b[0;34m\u001b[0m\u001b[0;34m\u001b[0m\u001b[0m\n",
      "\u001b[0;31mTypeError\u001b[0m: sell_coin() takes 1 positional argument but 2 were given"
     ]
    }
   ],
   "source": [
    "import schedule\n",
    "import time\n",
    "import configparser\n",
    "from datetime import datetime\n",
    "\n",
    "# Load credentials from config/credentials.ini\n",
    "config = configparser.ConfigParser()\n",
    "config.read('config/credentials.ini')\n",
    "# minimum_usd_per_trade = float(config['trading']['minimum_usd_per_trade'])\n",
    "minimum_usd_per_trade = 3.00 # for testing purposes\n",
    "# save the total money to a file accessible by multiple scripts\n",
    "with open('data/total_money.txt', 'r') as f:\n",
    "    total_money = float(f.read())\n",
    "\n",
    "# Define variables from config\n",
    "coins = [coin.strip() for coin in config['trading']['coins'].split(', ')]\n",
    "v_night = None\n",
    "\n",
    "print(f'I can trade {coins} with a minimum of ${minimum_usd_per_trade} per trade.')\n",
    "\n",
    "\n",
    "# Function to get current price for a coin\n",
    "def get_current_price(coin_name):\n",
    "    quote = r.crypto.get_crypto_quote(coin_name)\n",
    "    return float(quote['mark_price'])\n",
    "\n",
    "# Function to buy a coin\n",
    "@sleep_and_retry\n",
    "def buy_coin(coin_name, amount):\n",
    "    try:\n",
    "        current_price = get_current_price(coin_name)\n",
    "        amount_to_buy = float(amount) / float(current_price)\n",
    "        buying_usd = round(float(amount_to_buy), 2)\n",
    "        buy_cost = round(float(buying_usd) * float(current_price), 2)\n",
    "        result = r.orders.order_crypto(\n",
    "            symbol=str(coin_name).upper(),\n",
    "            amountIn='dollars',\n",
    "            side='buy',\n",
    "            quantityOrPrice=float(buy_cost),\n",
    "            limitPrice=round(float(current_price),2),\n",
    "            timeInForce='gtc',\n",
    "            jsonify=True\n",
    "        )\n",
    "        # save result to a file\n",
    "        with open('data/buy_orders.txt', 'a') as f:\n",
    "            f.write(f'{result}\\n')\n",
    "        return result\n",
    "    except Exception as e:\n",
    "        logging.error(e)\n",
    "        error = f'Error buying {coin_name} at {datetime.now()}'\n",
    "        # save error to a file\n",
    "        with open('data/errors.txt', 'a') as f:\n",
    "            f.write(f'{error}\\n')\n",
    "        return error\n",
    "# Function to sell a coin\n",
    "@sleep_and_retry\n",
    "def sell_coin(coin_name):\n",
    "    try:\n",
    "        current_price = get_current_price(coin_name)\n",
    "        holdings = r.crypto.get_crypto_positions(info=None)\n",
    "        coin_holdings = [coin for coin in holdings if coin['currency']['code'] == coin_name]\n",
    "        amount_to_sell = float(coin_holdings[0]['quantity'])\n",
    "        result = r.orders.order_crypto(\n",
    "            symbol=coin_name,\n",
    "            amountIn='quantity',\n",
    "            side='sell',\n",
    "            quantityOrPrice=float(amount_to_sell),\n",
    "            limitPrice=round(float(current_price), 2),\n",
    "            timeInForce='gtc',\n",
    "            jsonify=True\n",
    "        )\n",
    "        return result\n",
    "    except Exception as e:\n",
    "        logging.error(e)\n",
    "        error = f'Error selling {coin_name} at {datetime.now()}'\n",
    "        # save error to a file\n",
    "        with open('data/errors.txt', 'a') as f:\n",
    "            f.write(f'{error}\\n')\n",
    "        return error\n",
    "coins_dict = {}\n",
    "\n",
    "# Function to execute the strategy\n",
    "def execute_strategy():\n",
    "    \n",
    "    global v_night, total_money\n",
    "    # default value for v_night will be 0.00 as we don't have any coins to sell at the start\n",
    "    v_night = 0.00 if v_night is not None else v_night\n",
    "    for coin in tqdm(coins, desc='Coins', leave=False, total=len(coins)):\n",
    "        print(f'Executing strategy for {coin}')\n",
    "        # Buy $1.00 worth of each coin at midnight\n",
    "        quantity_purchased = 1.00 / get_current_price(coin)\n",
    "        schedule.every().day.at(\"00:00\").do(buy_coin, coin, minimum_usd_per_trade)\n",
    "        total_money -= 1.00\n",
    "        # Save the number of coins purchased at midnight\n",
    "        coins_dict[coin] = quantity_purchased\n",
    "\n",
    "        # Sell the purchased coins at 3:00 AM\n",
    "        schedule.every().day.at(\"03:00\").do(sell_coin, coin_name=coin)\n",
    "\n",
    "        # Save the total money to a file accessible by multiple scripts\n",
    "        with open('data/total_money.txt', 'w') as f:\n",
    "            f.write(str(total_money))\n",
    "    # Keep the script running\n",
    "    while True:\n",
    "        schedule.run_pending()\n",
    "        time.sleep(1)\n",
    "\n",
    "# Run the strategy\n",
    "execute_strategy()\n"
   ]
  }
 ],
 "metadata": {
  "kernelspec": {
   "display_name": "base",
   "language": "python",
   "name": "python3"
  },
  "language_info": {
   "codemirror_mode": {
    "name": "ipython",
    "version": 3
   },
   "file_extension": ".py",
   "mimetype": "text/x-python",
   "name": "python",
   "nbconvert_exporter": "python",
   "pygments_lexer": "ipython3",
   "version": "3.9.13"
  },
  "orig_nbformat": 4
 },
 "nbformat": 4,
 "nbformat_minor": 2
}
