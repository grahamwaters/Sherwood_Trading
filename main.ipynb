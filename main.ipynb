{
 "cells": [
  {
   "cell_type": "code",
   "execution_count": 1,
   "metadata": {},
   "outputs": [],
   "source": [
    "from finta import TA\n",
    "from colorama import Fore, Back, Style\n",
    "from datetime import datetime, timedelta\n",
    "import datetime\n",
    "import matplotlib.pyplot as plt, pandas as pd, numpy as np\n",
    "import logging, traceback, json, time, csv, os\n",
    "from robin_stocks import robinhood as r\n",
    "import statistics\n",
    "# import icecream\n",
    "from icecream import ic\n",
    "from pytz import timezone\n",
    "from tqdm import tqdm\n",
    "import random\n",
    "import os\n",
    "from time import sleep\n",
    "from ratelimit import limits, sleep_and_retry\n",
    "import asyncio\n",
    "from concurrent.futures import ThreadPoolExecutor\n",
    "from tqdm import tqdm\n",
    "from datetime import datetime\n",
    "from pytz import timezone\n",
    "from colorama import Fore, Back, Style\n",
    "#! ##############################\n",
    "#! ASYNC FUNCTIONS\n",
    "#! ##############################\n",
    "import asyncio\n",
    "from tqdm import tqdm\n",
    "from datetime import datetime\n",
    "from pytz import timezone\n",
    "signals_dict = {}\n",
    "minimum_orders_coins = {}\n",
    "import ast\n",
    "import re\n",
    "import pandas as pd\n",
    "import asyncio\n",
    "PERCENTAGE_IN_PLAY = 0.40 # 60% of buying power is in play at any given time\n",
    "ticking_iterator = 0 # this is a global variable that is set to the number of times the loop has run\n",
    "percentage_in_play = PERCENTAGE_IN_PLAY # 60% of buying power is in play at any given time\n",
    "loop_count = 0\n",
    "RESET = False #! this is a global variable that is set to True if you want to reset your account and sell all positions and cancel all orders\n",
    "stop_loss_percent = 0.05 # 5% stop loss\n",
    "verboseMode = True #! this is a global variable that is set to True if you want to see all the print statements for sells and buys\n",
    "BUYING_POWER = 0.0 #! this is a global variable that is set to your buying power\n",
    "TOTAL_CRYPTO_DOLLARS = 0.0 #! this is a global variable that is set to the total dollars you have in crypto (INVESTED)\n",
    "threshold_total_crypto_per_coin = 0.10 #! this is a global variable that is set to the total dollars you have in crypto (INVESTED)\n",
    "crypto_I_own = {} #! this is a global variable that is set to the coins you own"
   ]
  },
  {
   "cell_type": "code",
   "execution_count": 6,
   "metadata": {},
   "outputs": [],
   "source": [
    "# log into robinhood\n",
    "import json\n",
    "r = None\n",
    "def login():\n",
    "    global r\n",
    "    with open('credentials.json') as json_file:\n",
    "        credentials = json.load(json_file)\n",
    "    username = credentials['username']  \n",
    "    password = credentials['password']\n",
    "    r.login(username,password)\n",
    "    return r"
   ]
  },
  {
   "cell_type": "code",
   "execution_count": 7,
   "metadata": {},
   "outputs": [
    {
     "ename": "AttributeError",
     "evalue": "'NoneType' object has no attribute 'login'",
     "output_type": "error",
     "traceback": [
      "\u001b[0;31m---------------------------------------------------------------------------\u001b[0m",
      "\u001b[0;31mAttributeError\u001b[0m                            Traceback (most recent call last)",
      "\u001b[0;32m/var/folders/34/d1tlq3k91hb0lj6x90xpzb4r0000gn/T/ipykernel_22696/4014060940.py\u001b[0m in \u001b[0;36m<module>\u001b[0;34m\u001b[0m\n\u001b[1;32m      1\u001b[0m \u001b[0;31m# login\u001b[0m\u001b[0;34m\u001b[0m\u001b[0;34m\u001b[0m\u001b[0m\n\u001b[0;32m----> 2\u001b[0;31m \u001b[0mr\u001b[0m \u001b[0;34m=\u001b[0m \u001b[0mlogin\u001b[0m\u001b[0;34m(\u001b[0m\u001b[0;34m)\u001b[0m\u001b[0;34m\u001b[0m\u001b[0;34m\u001b[0m\u001b[0m\n\u001b[0m",
      "\u001b[0;32m/var/folders/34/d1tlq3k91hb0lj6x90xpzb4r0000gn/T/ipykernel_22696/1517476118.py\u001b[0m in \u001b[0;36mlogin\u001b[0;34m()\u001b[0m\n\u001b[1;32m      8\u001b[0m     \u001b[0musername\u001b[0m \u001b[0;34m=\u001b[0m \u001b[0mcredentials\u001b[0m\u001b[0;34m[\u001b[0m\u001b[0;34m'username'\u001b[0m\u001b[0;34m]\u001b[0m\u001b[0;34m\u001b[0m\u001b[0;34m\u001b[0m\u001b[0m\n\u001b[1;32m      9\u001b[0m     \u001b[0mpassword\u001b[0m \u001b[0;34m=\u001b[0m \u001b[0mcredentials\u001b[0m\u001b[0;34m[\u001b[0m\u001b[0;34m'password'\u001b[0m\u001b[0;34m]\u001b[0m\u001b[0;34m\u001b[0m\u001b[0;34m\u001b[0m\u001b[0m\n\u001b[0;32m---> 10\u001b[0;31m     \u001b[0mr\u001b[0m\u001b[0;34m.\u001b[0m\u001b[0mlogin\u001b[0m\u001b[0;34m(\u001b[0m\u001b[0musername\u001b[0m\u001b[0;34m,\u001b[0m\u001b[0mpassword\u001b[0m\u001b[0;34m)\u001b[0m\u001b[0;34m\u001b[0m\u001b[0;34m\u001b[0m\u001b[0m\n\u001b[0m\u001b[1;32m     11\u001b[0m     \u001b[0;32mreturn\u001b[0m \u001b[0mr\u001b[0m\u001b[0;34m\u001b[0m\u001b[0;34m\u001b[0m\u001b[0m\n",
      "\u001b[0;31mAttributeError\u001b[0m: 'NoneType' object has no attribute 'login'"
     ]
    }
   ],
   "source": [
    "# login\n",
    "r = login()"
   ]
  }
 ],
 "metadata": {
  "kernelspec": {
   "display_name": "base",
   "language": "python",
   "name": "python3"
  },
  "language_info": {
   "codemirror_mode": {
    "name": "ipython",
    "version": 3
   },
   "file_extension": ".py",
   "mimetype": "text/x-python",
   "name": "python",
   "nbconvert_exporter": "python",
   "pygments_lexer": "ipython3",
   "version": "3.9.13"
  },
  "orig_nbformat": 4
 },
 "nbformat": 4,
 "nbformat_minor": 2
}
